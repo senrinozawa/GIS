{
 "cells": [
  {
   "attachments": {},
   "cell_type": "markdown",
   "metadata": {},
   "source": [
    "# Data Exploration: Spreadsheet からデータを持ってくる\n",
    "\n",
    "\n",
    "![Alt text](https://raw.githubusercontent.com/yohman/23-1-Reitaku-GIS/main/Weeks/Week06/images/csv%20to%20map.png)\n",
    "\n",
    "\n",
    "先週の課題では一つの地図に複数のマーカーを作りましたね。作る過程で、おそらくマーカーを一つ一つコーディングをしたのではないでしょうか。\n",
    "\n",
    "\n",
    "```python\n",
    "# from Chikashi's homework\n",
    "kaede = [35.83304899572845, 139.9550263688704]\n",
    "asunaro = [35.83218389343381, 139.9559046419524]\n",
    "hiiragi = [35.83432746243043, 139.95492044150396]\n",
    "library = [35.83288620720931, 139.9560383893833]\n",
    "parking = [35.83477548217266, 139.9561361979999]\n",
    "bukastu = [35.83480867733186, 139.95489801198133]\n",
    "```\n",
    "\n",
    "でも、もし100個のマーカーを地図に載せるように言われたらどうする？大変だね！コーディングでやると要領が悪いので、データをspreadsheetで作って、Pythonでインポートしましょう。"
   ]
  },
  {
   "attachments": {},
   "cell_type": "markdown",
   "metadata": {},
   "source": [
    "## CSV ファイルのインポート\n",
    "\n",
    "では、`mydata.csv`　ファイルをインポートしましょう。クラスのサイトからダウンロードして、このファイルと同じフォルダに保存。\n",
    "\n",
    "確認！\n",
    "- `mydata.csv` ファイルがこのノートブックファイルと同じルーツであることを再確認\n"
   ]
  },
  {
   "attachments": {},
   "cell_type": "markdown",
   "metadata": {},
   "source": [
    "### Library import\n",
    "\n",
    "モジュールを三つ使います：\n",
    "- pandas: to import and work with dataframes\n",
    "- folium: to create interactive maps\n",
    "- matplotlib: to create charts"
   ]
  },
  {
   "cell_type": "code",
   "execution_count": 1,
   "metadata": {},
   "outputs": [],
   "source": [
    "# library import\n",
    "import pandas as pd\n",
    "import folium\n",
    "import matplotlib.pyplot as plt"
   ]
  },
  {
   "attachments": {},
   "cell_type": "markdown",
   "metadata": {},
   "source": [
    "このようにデータを取り込みます。ちなみに `df` は 【dataframe】の略："
   ]
  },
  {
   "cell_type": "code",
   "execution_count": 2,
   "metadata": {},
   "outputs": [],
   "source": [
    "# import the csv file\n",
    "df = pd.read_csv('mydata.csv')"
   ]
  },
  {
   "cell_type": "code",
   "execution_count": null,
   "metadata": {},
   "outputs": [],
   "source": [
    "df"
   ]
  },
  {
   "attachments": {},
   "cell_type": "markdown",
   "metadata": {},
   "source": [
    "## Working with dataframes\n",
    "\n",
    "おめでとう！データの取り込みに成功。それでは基本的なデータを explore するコマンドをいくつか紹介。"
   ]
  },
  {
   "cell_type": "code",
   "execution_count": 3,
   "metadata": {},
   "outputs": [
    {
     "data": {
      "text/plain": [
       "(6, 5)"
      ]
     },
     "execution_count": 3,
     "metadata": {},
     "output_type": "execute_result"
    }
   ],
   "source": [
    "# size of the data (rows, columns)\n",
    "df.shape"
   ]
  },
  {
   "cell_type": "code",
   "execution_count": 4,
   "metadata": {},
   "outputs": [
    {
     "name": "stdout",
     "output_type": "stream",
     "text": [
      "<class 'pandas.core.frame.DataFrame'>\n",
      "RangeIndex: 6 entries, 0 to 5\n",
      "Data columns (total 5 columns):\n",
      " #   Column       Non-Null Count  Dtype  \n",
      "---  ------       --------------  -----  \n",
      " 0   name         6 non-null      object \n",
      " 1   description  6 non-null      object \n",
      " 2   latitude     6 non-null      float64\n",
      " 3   longitude    6 non-null      float64\n",
      " 4   color        6 non-null      object \n",
      "dtypes: float64(2), object(3)\n",
      "memory usage: 372.0+ bytes\n"
     ]
    }
   ],
   "source": [
    "# information about the data\n",
    "df.info()"
   ]
  },
  {
   "attachments": {},
   "cell_type": "markdown",
   "metadata": {},
   "source": [
    "↑ここで確認するのは `latitude` and `longitude` が `float` であること。もし `object` であればデータを作り直す必要がある。\n",
    "\n",
    "次に、いろんなコマンドでデータをexploreする。一つ一つ、理解しながらじっくり実行するよう。"
   ]
  },
  {
   "cell_type": "code",
   "execution_count": 5,
   "metadata": {},
   "outputs": [
    {
     "data": {
      "text/plain": [
       "['name', 'description', 'latitude', 'longitude', 'color']"
      ]
     },
     "execution_count": 5,
     "metadata": {},
     "output_type": "execute_result"
    }
   ],
   "source": [
    "# list of columns\n",
    "df.columns.to_list()"
   ]
  },
  {
   "cell_type": "code",
   "execution_count": 6,
   "metadata": {},
   "outputs": [
    {
     "data": {
      "text/html": [
       "<div>\n",
       "<style scoped>\n",
       "    .dataframe tbody tr th:only-of-type {\n",
       "        vertical-align: middle;\n",
       "    }\n",
       "\n",
       "    .dataframe tbody tr th {\n",
       "        vertical-align: top;\n",
       "    }\n",
       "\n",
       "    .dataframe thead th {\n",
       "        text-align: right;\n",
       "    }\n",
       "</style>\n",
       "<table border=\"1\" class=\"dataframe\">\n",
       "  <thead>\n",
       "    <tr style=\"text-align: right;\">\n",
       "      <th></th>\n",
       "      <th>name</th>\n",
       "      <th>latitude</th>\n",
       "      <th>longitude</th>\n",
       "    </tr>\n",
       "  </thead>\n",
       "  <tbody>\n",
       "    <tr>\n",
       "      <th>0</th>\n",
       "      <td>校舎「かえで」</td>\n",
       "      <td>35.833049</td>\n",
       "      <td>139.955026</td>\n",
       "    </tr>\n",
       "    <tr>\n",
       "      <th>1</th>\n",
       "      <td>校舎「あすなろ」</td>\n",
       "      <td>35.832201</td>\n",
       "      <td>139.955906</td>\n",
       "    </tr>\n",
       "    <tr>\n",
       "      <th>2</th>\n",
       "      <td>図書館</td>\n",
       "      <td>35.832862</td>\n",
       "      <td>139.955925</td>\n",
       "    </tr>\n",
       "    <tr>\n",
       "      <th>3</th>\n",
       "      <td>学生会館「ひいらぎ」</td>\n",
       "      <td>35.834304</td>\n",
       "      <td>139.954985</td>\n",
       "    </tr>\n",
       "    <tr>\n",
       "      <th>4</th>\n",
       "      <td>麗澤大学生涯教育プラザ</td>\n",
       "      <td>35.831934</td>\n",
       "      <td>139.956880</td>\n",
       "    </tr>\n",
       "    <tr>\n",
       "      <th>5</th>\n",
       "      <td>校舎「さつき」</td>\n",
       "      <td>35.834119</td>\n",
       "      <td>139.956113</td>\n",
       "    </tr>\n",
       "  </tbody>\n",
       "</table>\n",
       "</div>"
      ],
      "text/plain": [
       "          name   latitude   longitude\n",
       "0      校舎「かえで」  35.833049  139.955026\n",
       "1     校舎「あすなろ」  35.832201  139.955906\n",
       "2          図書館  35.832862  139.955925\n",
       "3   学生会館「ひいらぎ」  35.834304  139.954985\n",
       "4  麗澤大学生涯教育プラザ  35.831934  139.956880\n",
       "5      校舎「さつき」  35.834119  139.956113"
      ]
     },
     "execution_count": 6,
     "metadata": {},
     "output_type": "execute_result"
    }
   ],
   "source": [
    "# show only specific columns\n",
    "df[['name','latitude','longitude']]"
   ]
  },
  {
   "cell_type": "code",
   "execution_count": 7,
   "metadata": {},
   "outputs": [
    {
     "data": {
      "text/plain": [
       "0    139.955026\n",
       "1    139.955906\n",
       "2    139.955925\n",
       "3    139.954985\n",
       "4    139.956880\n",
       "5    139.956113\n",
       "Name: longitude, dtype: float64"
      ]
     },
     "execution_count": 7,
     "metadata": {},
     "output_type": "execute_result"
    }
   ],
   "source": [
    "# get values for a single column\n",
    "df['longitude']"
   ]
  },
  {
   "cell_type": "code",
   "execution_count": 8,
   "metadata": {},
   "outputs": [
    {
     "data": {
      "text/plain": [
       "[35.833049, 35.83220147, 35.83286248, 35.83430366, 35.83193431, 35.83411942]"
      ]
     },
     "execution_count": 8,
     "metadata": {},
     "output_type": "execute_result"
    }
   ],
   "source": [
    "# put those values in a list\n",
    "df['latitude'].to_list()"
   ]
  },
  {
   "attachments": {},
   "cell_type": "markdown",
   "metadata": {},
   "source": [
    "### Charts\n",
    "\n",
    "`matplotlib` を使ってグラフを作成。これも一つ一つ、どのようなコマンドでチャートができるのかを把握するように。"
   ]
  },
  {
   "cell_type": "code",
   "execution_count": 9,
   "metadata": {},
   "outputs": [
    {
     "data": {
      "text/plain": [
       "<Axes: >"
      ]
     },
     "execution_count": 9,
     "metadata": {},
     "output_type": "execute_result"
    },
    {
     "data": {
      "image/png": "[encoded data removed]",
      "text/plain": [
       "<Figure size 640x480 with 1 Axes>"
      ]
     },
     "metadata": {},
     "output_type": "display_data"
    }
   ],
   "source": [
    "# line chart\n",
    "df['latitude'].plot()"
   ]
  },
  {
   "cell_type": "code",
   "execution_count": 10,
   "metadata": {},
   "outputs": [
    {
     "data": {
      "text/plain": [
       "<Axes: >"
      ]
     },
     "execution_count": 10,
     "metadata": {},
     "output_type": "execute_result"
    },
    {
     "data": {
      "image/png": "[encoded data removed]",
      "text/plain": [
       "<Figure size 640x480 with 1 Axes>"
      ]
     },
     "metadata": {},
     "output_type": "display_data"
    }
   ],
   "source": [
    "# boxplot 箱ヒゲ図\n",
    "df['latitude'].plot.box(color='red')"
   ]
  },
  {
   "cell_type": "code",
   "execution_count": 11,
   "metadata": {},
   "outputs": [
    {
     "data": {
      "text/plain": [
       "<Axes: >"
      ]
     },
     "execution_count": 11,
     "metadata": {},
     "output_type": "execute_result"
    },
    {
     "data": {
      "image/png": "[encoded data removed]",
      "text/plain": [
       "<Figure size 640x480 with 1 Axes>"
      ]
     },
     "metadata": {},
     "output_type": "display_data"
    }
   ],
   "source": [
    "# bar graph\n",
    "df['latitude'].plot.bar(color='green')"
   ]
  },
  {
   "cell_type": "code",
   "execution_count": 12,
   "metadata": {},
   "outputs": [
    {
     "data": {
      "text/plain": [
       "<Axes: xlabel='longitude', ylabel='latitude'>"
      ]
     },
     "execution_count": 12,
     "metadata": {},
     "output_type": "execute_result"
    },
    {
     "data": {
      "image/png": "[encoded data removed]",
      "text/plain": [
       "<Figure size 640x480 with 1 Axes>"
      ]
     },
     "metadata": {},
     "output_type": "display_data"
    }
   ],
   "source": [
    "# scatterplot 散布図\n",
    "# ここの 'c' は df の変数の 'color' を指定\n",
    "# size(s) を変えてみよう\n",
    "df.plot.scatter(x='longitude',y='latitude',c='color',s=50)"
   ]
  },
  {
   "attachments": {},
   "cell_type": "markdown",
   "metadata": {},
   "source": [
    "### Statistics\n",
    "\n",
    "Pythonは簡単な統計もできます。"
   ]
  },
  {
   "cell_type": "code",
   "execution_count": 13,
   "metadata": {},
   "outputs": [
    {
     "data": {
      "text/plain": [
       "count     6.000000\n",
       "mean     35.833078\n",
       "std       0.000971\n",
       "min      35.831934\n",
       "25%      35.832367\n",
       "50%      35.832956\n",
       "75%      35.833852\n",
       "max      35.834304\n",
       "Name: latitude, dtype: float64"
      ]
     },
     "execution_count": 13,
     "metadata": {},
     "output_type": "execute_result"
    }
   ],
   "source": [
    "# summary stats\n",
    "df['latitude'].describe()"
   ]
  },
  {
   "cell_type": "code",
   "execution_count": 14,
   "metadata": {},
   "outputs": [
    {
     "data": {
      "text/plain": [
       "count      6.000000\n",
       "mean     139.955806\n",
       "std        0.000715\n",
       "min      139.954985\n",
       "25%      139.955246\n",
       "50%      139.955916\n",
       "75%      139.956066\n",
       "max      139.956880\n",
       "Name: longitude, dtype: float64"
      ]
     },
     "execution_count": 14,
     "metadata": {},
     "output_type": "execute_result"
    }
   ],
   "source": [
    "# summary stats\n",
    "df['longitude'].describe()"
   ]
  },
  {
   "cell_type": "code",
   "execution_count": 15,
   "metadata": {},
   "outputs": [
    {
     "data": {
      "text/plain": [
       "35.833078390000004"
      ]
     },
     "execution_count": 15,
     "metadata": {},
     "output_type": "execute_result"
    }
   ],
   "source": [
    "# mean 平均値\n",
    "df['latitude'].mean()"
   ]
  },
  {
   "cell_type": "code",
   "execution_count": 16,
   "metadata": {},
   "outputs": [
    {
     "data": {
      "text/plain": [
       "35.83295574"
      ]
     },
     "execution_count": 16,
     "metadata": {},
     "output_type": "execute_result"
    }
   ],
   "source": [
    "# median 中央値\n",
    "df['latitude'].median()"
   ]
  },
  {
   "attachments": {},
   "cell_type": "markdown",
   "metadata": {},
   "source": [
    "では統計を使って、`latitude` and `longitude` の平均値を変数に入れましょう。\n",
    "\n",
    "さて、この平均値は何を意味するのでしょうか？"
   ]
  },
  {
   "cell_type": "code",
   "execution_count": 17,
   "metadata": {},
   "outputs": [
    {
     "name": "stdout",
     "output_type": "stream",
     "text": [
      "35.833078390000004 139.95580603333335\n"
     ]
    }
   ],
   "source": [
    "# get center lat/lon\n",
    "center_lat = df['latitude'].mean()\n",
    "center_lon = df['longitude'].mean()\n",
    "\n",
    "print(center_lat,center_lon)"
   ]
  },
  {
   "attachments": {},
   "cell_type": "markdown",
   "metadata": {},
   "source": [
    "## Let's loop!\n",
    "\n",
    "プログラミングの基礎の一つである　`for loop`　があります。「ループ」の言葉通り、何かを【繰り返す】という意味である。\n"
   ]
  },
  {
   "cell_type": "code",
   "execution_count": 18,
   "metadata": {},
   "outputs": [
    {
     "name": "stdout",
     "output_type": "stream",
     "text": [
      "Fumiaki\n",
      "Yuya\n",
      "Mifuyu\n",
      "Pingxin\n"
     ]
    }
   ],
   "source": [
    "# my students\n",
    "students = ['Fumiaki','Yuya','Mifuyu','Pingxin']\n",
    "\n",
    "# print their names\n",
    "for name in students:\n",
    "    print(name)"
   ]
  },
  {
   "attachments": {},
   "cell_type": "markdown",
   "metadata": {},
   "source": [
    "さて、この「ループ」の概念を使ってデータ `df` の１行ずつアウトプットするには `iterrows()` メソッドを使う。例えば、データの `name` を全部アウトプットするには："
   ]
  },
  {
   "cell_type": "code",
   "execution_count": 19,
   "metadata": {},
   "outputs": [
    {
     "name": "stdout",
     "output_type": "stream",
     "text": [
      "校舎「かえで」\n",
      "校舎「あすなろ」\n",
      "図書館\n",
      "学生会館「ひいらぎ」\n",
      "麗澤大学生涯教育プラザ\n",
      "校舎「さつき」\n"
     ]
    }
   ],
   "source": [
    "# loop through your data\n",
    "for index, row in df.iterrows():\n",
    "    print(row['name'])"
   ]
  },
  {
   "attachments": {},
   "cell_type": "markdown",
   "metadata": {},
   "source": [
    "このように、`row` の変数は【各行】を意味するので、`for loop` に入っているときは変数名と共に各行の値をアウトプットすることができる。複数の変数をアウトプットも可能："
   ]
  },
  {
   "cell_type": "code",
   "execution_count": 20,
   "metadata": {},
   "outputs": [
    {
     "name": "stdout",
     "output_type": "stream",
     "text": [
      "校舎「かえで」 35.833049 139.9550264\n",
      "校舎「あすなろ」 35.83220147 139.9559064\n",
      "図書館 35.83286248 139.9559251\n",
      "学生会館「ひいらぎ」 35.83430366 139.9549849\n",
      "麗澤大学生涯教育プラザ 35.83193431 139.9568801\n",
      "校舎「さつき」 35.83411942 139.9561133\n"
     ]
    }
   ],
   "source": [
    "# loop and output multiple column values\n",
    "for index, row in df.iterrows():\n",
    "    print(row['name'],row['latitude'],row['longitude'])"
   ]
  },
  {
   "attachments": {},
   "cell_type": "markdown",
   "metadata": {},
   "source": [
    "### Use the loop in a map\n",
    "\n",
    "それでは、`for loop` を使って、`df` のポイントを一気にマッピングしよう。"
   ]
  },
  {
   "cell_type": "code",
   "execution_count": 21,
   "metadata": {},
   "outputs": [
    {
     "data": {
      "text/html": [
       "<div style=\"width:100%;\"><div style=\"position:relative;width:100%;height:0;padding-bottom:60%;\"><span style=\"color:#565656\">Make this Notebook Trusted to load map: File -> Trust Notebook</span><iframe srcdoc=\"&lt;!DOCTYPE html&gt;\n",
       "&lt;html&gt;\n",
       "&lt;head&gt;\n",
       "    \n",
       "    &lt;meta http-equiv=&quot;content-type&quot; content=&quot;text/html; charset=UTF-8&quot; /&gt;\n",
       "    \n",
       "        &lt;script&gt;\n",
       "            L_NO_TOUCH = false;\n",
       "            L_DISABLE_3D = false;\n",
       "        &lt;/script&gt;\n",
       "    \n",
       "    &lt;style&gt;html, body {width: 100%;height: 100%;margin: 0;padding: 0;}&lt;/style&gt;\n",
       "    &lt;style&gt;#map {position:absolute;top:0;bottom:0;right:0;left:0;}&lt;/style&gt;\n",
       "    &lt;script src=&quot;https://cdn.jsdelivr.net/npm/leaflet@1.9.3/dist/leaflet.js&quot;&gt;&lt;/script&gt;\n",
       "    &lt;script src=&quot;https://code.jquery.com/jquery-1.12.4.min.js&quot;&gt;&lt;/script&gt;\n",
       "    &lt;script src=&quot;https://cdn.jsdelivr.net/npm/bootstrap@5.2.2/dist/js/bootstrap.bundle.min.js&quot;&gt;&lt;/script&gt;\n",
       "    &lt;script src=&quot;https://cdnjs.cloudflare.com/ajax/libs/Leaflet.awesome-markers/2.0.2/leaflet.awesome-markers.js&quot;&gt;&lt;/script&gt;\n",
       "    &lt;link rel=&quot;stylesheet&quot; href=&quot;https://cdn.jsdelivr.net/npm/leaflet@1.9.3/dist/leaflet.css&quot;/&gt;\n",
       "    &lt;link rel=&quot;stylesheet&quot; href=&quot;https://cdn.jsdelivr.net/npm/bootstrap@5.2.2/dist/css/bootstrap.min.css&quot;/&gt;\n",
       "    &lt;link rel=&quot;stylesheet&quot; href=&quot;https://netdna.bootstrapcdn.com/bootstrap/3.0.0/css/bootstrap.min.css&quot;/&gt;\n",
       "    &lt;link rel=&quot;stylesheet&quot; href=&quot;https://cdn.jsdelivr.net/npm/@fortawesome/fontawesome-free@6.2.0/css/all.min.css&quot;/&gt;\n",
       "    &lt;link rel=&quot;stylesheet&quot; href=&quot;https://cdnjs.cloudflare.com/ajax/libs/Leaflet.awesome-markers/2.0.2/leaflet.awesome-markers.css&quot;/&gt;\n",
       "    &lt;link rel=&quot;stylesheet&quot; href=&quot;https://cdn.jsdelivr.net/gh/python-visualization/folium/folium/templates/leaflet.awesome.rotate.min.css&quot;/&gt;\n",
       "    \n",
       "            &lt;meta name=&quot;viewport&quot; content=&quot;width=device-width,\n",
       "                initial-scale=1.0, maximum-scale=1.0, user-scalable=no&quot; /&gt;\n",
       "            &lt;style&gt;\n",
       "                #map_81e2ea47925047157409f15fa36a86b4 {\n",
       "                    position: relative;\n",
       "                    width: 100.0%;\n",
       "                    height: 100.0%;\n",
       "                    left: 0.0%;\n",
       "                    top: 0.0%;\n",
       "                }\n",
       "                .leaflet-container { font-size: 1rem; }\n",
       "            &lt;/style&gt;\n",
       "        \n",
       "&lt;/head&gt;\n",
       "&lt;body&gt;\n",
       "    \n",
       "    \n",
       "            &lt;div class=&quot;folium-map&quot; id=&quot;map_81e2ea47925047157409f15fa36a86b4&quot; &gt;&lt;/div&gt;\n",
       "        \n",
       "&lt;/body&gt;\n",
       "&lt;script&gt;\n",
       "    \n",
       "    \n",
       "            var map_81e2ea47925047157409f15fa36a86b4 = L.map(\n",
       "                &quot;map_81e2ea47925047157409f15fa36a86b4&quot;,\n",
       "                {\n",
       "                    center: [35.833078390000004, 139.95580603333335],\n",
       "                    crs: L.CRS.EPSG3857,\n",
       "                    zoom: 17,\n",
       "                    zoomControl: true,\n",
       "                    preferCanvas: false,\n",
       "                }\n",
       "            );\n",
       "\n",
       "            \n",
       "\n",
       "        \n",
       "    \n",
       "            var tile_layer_4de6ae72ac674bff46015cfa87621023 = L.tileLayer(\n",
       "                &quot;https://{s}.tile.openstreetmap.org/{z}/{x}/{y}.png&quot;,\n",
       "                {&quot;attribution&quot;: &quot;Data by \\u0026copy; \\u003ca target=\\&quot;_blank\\&quot; href=\\&quot;http://openstreetmap.org\\&quot;\\u003eOpenStreetMap\\u003c/a\\u003e, under \\u003ca target=\\&quot;_blank\\&quot; href=\\&quot;http://www.openstreetmap.org/copyright\\&quot;\\u003eODbL\\u003c/a\\u003e.&quot;, &quot;detectRetina&quot;: false, &quot;maxNativeZoom&quot;: 18, &quot;maxZoom&quot;: 18, &quot;minZoom&quot;: 0, &quot;noWrap&quot;: false, &quot;opacity&quot;: 1, &quot;subdomains&quot;: &quot;abc&quot;, &quot;tms&quot;: false}\n",
       "            ).addTo(map_81e2ea47925047157409f15fa36a86b4);\n",
       "        \n",
       "    \n",
       "            var marker_a7b6fd279ff5531aa9be43d13c30ddef = L.marker(\n",
       "                [35.833049, 139.9550264],\n",
       "                {}\n",
       "            ).addTo(map_81e2ea47925047157409f15fa36a86b4);\n",
       "        \n",
       "    \n",
       "            var icon_feb20928923cafb7eec4cccd9845ad3a = L.AwesomeMarkers.icon(\n",
       "                {&quot;extraClasses&quot;: &quot;fa-rotate-0&quot;, &quot;icon&quot;: &quot;info-sign&quot;, &quot;iconColor&quot;: &quot;white&quot;, &quot;markerColor&quot;: &quot;green&quot;, &quot;prefix&quot;: &quot;glyphicon&quot;}\n",
       "            );\n",
       "            marker_a7b6fd279ff5531aa9be43d13c30ddef.setIcon(icon_feb20928923cafb7eec4cccd9845ad3a);\n",
       "        \n",
       "    \n",
       "        var popup_fe0f880146082f8ca36585c54e84f362 = L.popup({&quot;maxWidth&quot;: &quot;100%&quot;});\n",
       "\n",
       "        \n",
       "            \n",
       "                var html_f91ff4452d11072cdca8b3fbbb4a679d = $(`&lt;div id=&quot;html_f91ff4452d11072cdca8b3fbbb4a679d&quot; style=&quot;width: 100.0%; height: 100.0%;&quot;&gt;&lt;div style=&quot;width:350px&quot;&gt;校舎名の「かえで」には「楓の果実が2つの種子が密着した姿で、それぞれから翼が伸びる翼果であることから、仲間同士で切磋琢磨し合い、成長を遂げていくことができる人材の育成を行う」という願いが込められています。&lt;/div&gt;&lt;/div&gt;`)[0];\n",
       "                popup_fe0f880146082f8ca36585c54e84f362.setContent(html_f91ff4452d11072cdca8b3fbbb4a679d);\n",
       "            \n",
       "        \n",
       "\n",
       "        marker_a7b6fd279ff5531aa9be43d13c30ddef.bindPopup(popup_fe0f880146082f8ca36585c54e84f362)\n",
       "        ;\n",
       "\n",
       "        \n",
       "    \n",
       "    \n",
       "            marker_a7b6fd279ff5531aa9be43d13c30ddef.bindTooltip(\n",
       "                `&lt;div&gt;\n",
       "                     校舎「かえで」\n",
       "                 &lt;/div&gt;`,\n",
       "                {&quot;sticky&quot;: true}\n",
       "            );\n",
       "        \n",
       "    \n",
       "            var marker_e0f8f559712a6e1b7cb9b9bcb78b85d9 = L.marker(\n",
       "                [35.83220147, 139.9559064],\n",
       "                {}\n",
       "            ).addTo(map_81e2ea47925047157409f15fa36a86b4);\n",
       "        \n",
       "    \n",
       "            var icon_1ab503d46d05c01cd743bbe1c8d4659f = L.AwesomeMarkers.icon(\n",
       "                {&quot;extraClasses&quot;: &quot;fa-rotate-0&quot;, &quot;icon&quot;: &quot;info-sign&quot;, &quot;iconColor&quot;: &quot;white&quot;, &quot;markerColor&quot;: &quot;green&quot;, &quot;prefix&quot;: &quot;glyphicon&quot;}\n",
       "            );\n",
       "            marker_e0f8f559712a6e1b7cb9b9bcb78b85d9.setIcon(icon_1ab503d46d05c01cd743bbe1c8d4659f);\n",
       "        \n",
       "    \n",
       "        var popup_fdf5903e3db5cbd900aa08f7646a1809 = L.popup({&quot;maxWidth&quot;: &quot;100%&quot;});\n",
       "\n",
       "        \n",
       "            \n",
       "                var html_7ab4f715db09f91537864424c1b5b141 = $(`&lt;div id=&quot;html_7ab4f715db09f91537864424c1b5b141&quot; style=&quot;width: 100.0%; height: 100.0%;&quot;&gt;&lt;div style=&quot;width:350px&quot;&gt;麗澤大学開学50周年記念事業の一環として2011年4月&quot;森と共生するキャンパス&quot;をコンセプトに建設された校舎「あすなろ」。このコンセプトが高く評価され、2012年度グッドデザイン賞を受賞しました。&lt;/div&gt;&lt;/div&gt;`)[0];\n",
       "                popup_fdf5903e3db5cbd900aa08f7646a1809.setContent(html_7ab4f715db09f91537864424c1b5b141);\n",
       "            \n",
       "        \n",
       "\n",
       "        marker_e0f8f559712a6e1b7cb9b9bcb78b85d9.bindPopup(popup_fdf5903e3db5cbd900aa08f7646a1809)\n",
       "        ;\n",
       "\n",
       "        \n",
       "    \n",
       "    \n",
       "            marker_e0f8f559712a6e1b7cb9b9bcb78b85d9.bindTooltip(\n",
       "                `&lt;div&gt;\n",
       "                     校舎「あすなろ」\n",
       "                 &lt;/div&gt;`,\n",
       "                {&quot;sticky&quot;: true}\n",
       "            );\n",
       "        \n",
       "    \n",
       "            var marker_19c5ca9b953520fe4b6f7d7cdb1701ff = L.marker(\n",
       "                [35.83286248, 139.9559251],\n",
       "                {}\n",
       "            ).addTo(map_81e2ea47925047157409f15fa36a86b4);\n",
       "        \n",
       "    \n",
       "            var icon_ac60a8a092063d0a5ce43b998e756f31 = L.AwesomeMarkers.icon(\n",
       "                {&quot;extraClasses&quot;: &quot;fa-rotate-0&quot;, &quot;icon&quot;: &quot;info-sign&quot;, &quot;iconColor&quot;: &quot;white&quot;, &quot;markerColor&quot;: &quot;green&quot;, &quot;prefix&quot;: &quot;glyphicon&quot;}\n",
       "            );\n",
       "            marker_19c5ca9b953520fe4b6f7d7cdb1701ff.setIcon(icon_ac60a8a092063d0a5ce43b998e756f31);\n",
       "        \n",
       "    \n",
       "        var popup_608325eb4be9fdb7320a309b594b9935 = L.popup({&quot;maxWidth&quot;: &quot;100%&quot;});\n",
       "\n",
       "        \n",
       "            \n",
       "                var html_cf101d1c8983adf2dc45617d4ae3e720 = $(`&lt;div id=&quot;html_cf101d1c8983adf2dc45617d4ae3e720&quot; style=&quot;width: 100.0%; height: 100.0%;&quot;&gt;&lt;div style=&quot;width:350px&quot;&gt;AVホール・CALL教室を持ち、授業開講時は8:50から19:00（閉講期間中は9:00から16:45）まで利用可能。開架式を採用しており、貴重書を除くほとんどの資料を、自由に閲覧することができます。&lt;br&gt;&lt;br&gt; 開館時間は8：50～19：00（月～金）&lt;br&gt; ※授業閉講時は9：00～16：45まで開館（月～金）&lt;/div&gt;&lt;/div&gt;`)[0];\n",
       "                popup_608325eb4be9fdb7320a309b594b9935.setContent(html_cf101d1c8983adf2dc45617d4ae3e720);\n",
       "            \n",
       "        \n",
       "\n",
       "        marker_19c5ca9b953520fe4b6f7d7cdb1701ff.bindPopup(popup_608325eb4be9fdb7320a309b594b9935)\n",
       "        ;\n",
       "\n",
       "        \n",
       "    \n",
       "    \n",
       "            marker_19c5ca9b953520fe4b6f7d7cdb1701ff.bindTooltip(\n",
       "                `&lt;div&gt;\n",
       "                     図書館\n",
       "                 &lt;/div&gt;`,\n",
       "                {&quot;sticky&quot;: true}\n",
       "            );\n",
       "        \n",
       "    \n",
       "            var marker_42cac022121fd89753596dc13bae2ac6 = L.marker(\n",
       "                [35.83430366, 139.9549849],\n",
       "                {}\n",
       "            ).addTo(map_81e2ea47925047157409f15fa36a86b4);\n",
       "        \n",
       "    \n",
       "            var icon_3af0439f46b25e95bbb623a9a4581799 = L.AwesomeMarkers.icon(\n",
       "                {&quot;extraClasses&quot;: &quot;fa-rotate-0&quot;, &quot;icon&quot;: &quot;info-sign&quot;, &quot;iconColor&quot;: &quot;white&quot;, &quot;markerColor&quot;: &quot;cadetblue&quot;, &quot;prefix&quot;: &quot;glyphicon&quot;}\n",
       "            );\n",
       "            marker_42cac022121fd89753596dc13bae2ac6.setIcon(icon_3af0439f46b25e95bbb623a9a4581799);\n",
       "        \n",
       "    \n",
       "        var popup_60d58367d6cb0ca0af6c0dbf4aec8de6 = L.popup({&quot;maxWidth&quot;: &quot;100%&quot;});\n",
       "\n",
       "        \n",
       "            \n",
       "                var html_02f21e12f53c062346f4a3f4734785e6 = $(`&lt;div id=&quot;html_02f21e12f53c062346f4a3f4734785e6&quot; style=&quot;width: 100.0%; height: 100.0%;&quot;&gt;&lt;div style=&quot;width:350px&quot;&gt;2022年9月にリニューアルオープン。木目とグリーンを基調としたアットホームな雰囲気で、窓から見える「緑」の景色とも調和した作りとなっています。「1人席」や「ソファ席」、「ベンチ席」、「ミーティングルーム」等の様々な空間で過ごせるような工夫がされています。 2階にはカフェコーナーを設置し、焼き立てパン、淹れ立てコーヒー、サーティーワンアイスが購入できます。&lt;/div&gt;&lt;/div&gt;`)[0];\n",
       "                popup_60d58367d6cb0ca0af6c0dbf4aec8de6.setContent(html_02f21e12f53c062346f4a3f4734785e6);\n",
       "            \n",
       "        \n",
       "\n",
       "        marker_42cac022121fd89753596dc13bae2ac6.bindPopup(popup_60d58367d6cb0ca0af6c0dbf4aec8de6)\n",
       "        ;\n",
       "\n",
       "        \n",
       "    \n",
       "    \n",
       "            marker_42cac022121fd89753596dc13bae2ac6.bindTooltip(\n",
       "                `&lt;div&gt;\n",
       "                     学生会館「ひいらぎ」\n",
       "                 &lt;/div&gt;`,\n",
       "                {&quot;sticky&quot;: true}\n",
       "            );\n",
       "        \n",
       "    \n",
       "            var marker_fced9d6ab8f0a2a229b09ee26277d9b8 = L.marker(\n",
       "                [35.83193431, 139.9568801],\n",
       "                {}\n",
       "            ).addTo(map_81e2ea47925047157409f15fa36a86b4);\n",
       "        \n",
       "    \n",
       "            var icon_e5c3fa99920ae74d803ce3decac80eaa = L.AwesomeMarkers.icon(\n",
       "                {&quot;extraClasses&quot;: &quot;fa-rotate-0&quot;, &quot;icon&quot;: &quot;info-sign&quot;, &quot;iconColor&quot;: &quot;white&quot;, &quot;markerColor&quot;: &quot;green&quot;, &quot;prefix&quot;: &quot;glyphicon&quot;}\n",
       "            );\n",
       "            marker_fced9d6ab8f0a2a229b09ee26277d9b8.setIcon(icon_e5c3fa99920ae74d803ce3decac80eaa);\n",
       "        \n",
       "    \n",
       "        var popup_5b58cab35874a4d9075fcf9ce9adc89e = L.popup({&quot;maxWidth&quot;: &quot;100%&quot;});\n",
       "\n",
       "        \n",
       "            \n",
       "                var html_2290566bd857a191ec44b2d503552fd9 = $(`&lt;div id=&quot;html_2290566bd857a191ec44b2d503552fd9&quot; style=&quot;width: 100.0%; height: 100.0%;&quot;&gt;&lt;div style=&quot;width:350px&quot;&gt;2006年（平成18年）2月竣工。大学院、研究センター、情報システム部、麗澤オープンカレッジが入る複合施設。教育活動、研究活動、社会貢献活動を積極的に推進し、これからの生涯学習への需要に的確に応えていくことを目的とした建物です。&lt;/div&gt;&lt;/div&gt;`)[0];\n",
       "                popup_5b58cab35874a4d9075fcf9ce9adc89e.setContent(html_2290566bd857a191ec44b2d503552fd9);\n",
       "            \n",
       "        \n",
       "\n",
       "        marker_fced9d6ab8f0a2a229b09ee26277d9b8.bindPopup(popup_5b58cab35874a4d9075fcf9ce9adc89e)\n",
       "        ;\n",
       "\n",
       "        \n",
       "    \n",
       "    \n",
       "            marker_fced9d6ab8f0a2a229b09ee26277d9b8.bindTooltip(\n",
       "                `&lt;div&gt;\n",
       "                     麗澤大学生涯教育プラザ\n",
       "                 &lt;/div&gt;`,\n",
       "                {&quot;sticky&quot;: true}\n",
       "            );\n",
       "        \n",
       "    \n",
       "            var marker_0fdf6642708f2733bdafbc6c4f71a576 = L.marker(\n",
       "                [35.83411942, 139.9561133],\n",
       "                {}\n",
       "            ).addTo(map_81e2ea47925047157409f15fa36a86b4);\n",
       "        \n",
       "    \n",
       "            var icon_0ce67f125d412a8a91ff22dee74667c6 = L.AwesomeMarkers.icon(\n",
       "                {&quot;extraClasses&quot;: &quot;fa-rotate-0&quot;, &quot;icon&quot;: &quot;info-sign&quot;, &quot;iconColor&quot;: &quot;white&quot;, &quot;markerColor&quot;: &quot;darkred&quot;, &quot;prefix&quot;: &quot;glyphicon&quot;}\n",
       "            );\n",
       "            marker_0fdf6642708f2733bdafbc6c4f71a576.setIcon(icon_0ce67f125d412a8a91ff22dee74667c6);\n",
       "        \n",
       "    \n",
       "        var popup_b868df1a952d87c61dbb480ea389601b = L.popup({&quot;maxWidth&quot;: &quot;100%&quot;});\n",
       "\n",
       "        \n",
       "            \n",
       "                var html_79cfc9d9ad22644ea8f1f379034a9765 = $(`&lt;div id=&quot;html_79cfc9d9ad22644ea8f1f379034a9765&quot; style=&quot;width: 100.0%; height: 100.0%;&quot;&gt;&lt;div style=&quot;width:350px&quot;&gt;&lt;img src=&quot;https://www.reitaku-u.ac.jp/news/images/fb67d3c1fc242f1c5205423a598be848832b6c2b.jpg&quot; width=100%&gt; &lt;p&gt; さつきの花言葉は「節制」。強健で花付きがよく、毎年花が満開に咲きます。新しい学び舎で、強い信念を持って学問に励み、1人1人が満開の花を咲かせられるようにという想いが込められています。 &lt;/p&gt;&lt;/div&gt;&lt;/div&gt;`)[0];\n",
       "                popup_b868df1a952d87c61dbb480ea389601b.setContent(html_79cfc9d9ad22644ea8f1f379034a9765);\n",
       "            \n",
       "        \n",
       "\n",
       "        marker_0fdf6642708f2733bdafbc6c4f71a576.bindPopup(popup_b868df1a952d87c61dbb480ea389601b)\n",
       "        ;\n",
       "\n",
       "        \n",
       "    \n",
       "    \n",
       "            marker_0fdf6642708f2733bdafbc6c4f71a576.bindTooltip(\n",
       "                `&lt;div&gt;\n",
       "                     校舎「さつき」\n",
       "                 &lt;/div&gt;`,\n",
       "                {&quot;sticky&quot;: true}\n",
       "            );\n",
       "        \n",
       "&lt;/script&gt;\n",
       "&lt;/html&gt;\" style=\"position:absolute;width:100%;height:100%;left:0;top:0;border:none !important;\" allowfullscreen webkitallowfullscreen mozallowfullscreen></iframe></div></div>"
      ],
      "text/plain": [
       "<folium.folium.Map at 0x1f894a89ad0>"
      ]
     },
     "execution_count": 21,
     "metadata": {},
     "output_type": "execute_result"
    }
   ],
   "source": [
    "# make the map\n",
    "m = folium.Map(location=[center_lat,center_lon], zoom_start=17)\n",
    "\n",
    "# df をループしてマーカーを作る\n",
    "for index, row in df.iterrows():\n",
    "    latlon = [row['latitude'],row['longitude']]\n",
    "    folium.Marker(latlon, \n",
    "                  popup='<div style=\"width:350px\">'+row['description']+'</div>', \n",
    "                  tooltip=row['name'],\n",
    "                  icon=folium.Icon(color=row['color']\n",
    "                )).add_to(m)\n",
    "\n",
    "# show the map\n",
    "m"
   ]
  },
  {
   "attachments": {},
   "cell_type": "markdown",
   "metadata": {},
   "source": [
    "`popup` の値に注目！そうなんです。日本語のテキストだと、popupが縦に表示されるため、これを回避するにはテキストの周りにHTMLで強引に `width` を設定します。\n",
    "\n",
    "<img src=\"https://raw.githubusercontent.com/yohman/23-1-Reitaku-GIS/main/Weeks/Week06/images/tate%20to%20yoko.png\" width=\"400\">"
   ]
  },
  {
   "attachments": {},
   "cell_type": "markdown",
   "metadata": {},
   "source": [
    "### Basemap 色々\n",
    "\n",
    "デフォルトで使うベースマップは Open Street Map から。でも他にもオプションがいっぱいある。`folium` でマップを作るときに `tiles` と `attr` を指定することによってベースマップの変更が可能になる。\n",
    "\n",
    "日本では国土交通省の国土地理院が様々なベースマップを提供している。以下のURLを `tiles` 変数に指定する。`attr` は `attribute` の略なので、必ず出所を指定する。この場合は `attr=\"国土地理院\"`\n",
    "\n",
    "2007年以降\n",
    "- https://cyberjapandata.gsi.go.jp/xyz/seamlessphoto/{z}/{x}/{y}.jpg\n",
    "\n",
    "1987年～1990年\n",
    "- https://cyberjapandata.gsi.go.jp/xyz/gazo4/{z}/{x}/{y}.jpg\n",
    "\n",
    "1984年～1986年\n",
    "- https://cyberjapandata.gsi.go.jp/xyz/gazo3/{z}/{x}/{y}.jpg\n",
    "\n",
    "1979年～1983年\n",
    "- https://cyberjapandata.gsi.go.jp/xyz/gazo2/{z}/{x}/{y}.jpg\n",
    "\n",
    "1974年～1978年\n",
    "- https://cyberjapandata.gsi.go.jp/xyz/gazo1/{z}/{x}/{y}.jpg\n",
    "\n",
    "1961年～1969年\n",
    "- https://cyberjapandata.gsi.go.jp/xyz/ort_old10/{z}/{x}/{y}.png\n"
   ]
  },
  {
   "cell_type": "code",
   "execution_count": 22,
   "metadata": {},
   "outputs": [
    {
     "data": {
      "text/html": [
       "<div style=\"width:100%;\"><div style=\"position:relative;width:100%;height:0;padding-bottom:60%;\"><span style=\"color:#565656\">Make this Notebook Trusted to load map: File -> Trust Notebook</span><iframe srcdoc=\"&lt;!DOCTYPE html&gt;\n",
       "&lt;html&gt;\n",
       "&lt;head&gt;\n",
       "    \n",
       "    &lt;meta http-equiv=&quot;content-type&quot; content=&quot;text/html; charset=UTF-8&quot; /&gt;\n",
       "    \n",
       "        &lt;script&gt;\n",
       "            L_NO_TOUCH = false;\n",
       "            L_DISABLE_3D = false;\n",
       "        &lt;/script&gt;\n",
       "    \n",
       "    &lt;style&gt;html, body {width: 100%;height: 100%;margin: 0;padding: 0;}&lt;/style&gt;\n",
       "    &lt;style&gt;#map {position:absolute;top:0;bottom:0;right:0;left:0;}&lt;/style&gt;\n",
       "    &lt;script src=&quot;https://cdn.jsdelivr.net/npm/leaflet@1.9.3/dist/leaflet.js&quot;&gt;&lt;/script&gt;\n",
       "    &lt;script src=&quot;https://code.jquery.com/jquery-1.12.4.min.js&quot;&gt;&lt;/script&gt;\n",
       "    &lt;script src=&quot;https://cdn.jsdelivr.net/npm/bootstrap@5.2.2/dist/js/bootstrap.bundle.min.js&quot;&gt;&lt;/script&gt;\n",
       "    &lt;script src=&quot;https://cdnjs.cloudflare.com/ajax/libs/Leaflet.awesome-markers/2.0.2/leaflet.awesome-markers.js&quot;&gt;&lt;/script&gt;\n",
       "    &lt;link rel=&quot;stylesheet&quot; href=&quot;https://cdn.jsdelivr.net/npm/leaflet@1.9.3/dist/leaflet.css&quot;/&gt;\n",
       "    &lt;link rel=&quot;stylesheet&quot; href=&quot;https://cdn.jsdelivr.net/npm/bootstrap@5.2.2/dist/css/bootstrap.min.css&quot;/&gt;\n",
       "    &lt;link rel=&quot;stylesheet&quot; href=&quot;https://netdna.bootstrapcdn.com/bootstrap/3.0.0/css/bootstrap.min.css&quot;/&gt;\n",
       "    &lt;link rel=&quot;stylesheet&quot; href=&quot;https://cdn.jsdelivr.net/npm/@fortawesome/fontawesome-free@6.2.0/css/all.min.css&quot;/&gt;\n",
       "    &lt;link rel=&quot;stylesheet&quot; href=&quot;https://cdnjs.cloudflare.com/ajax/libs/Leaflet.awesome-markers/2.0.2/leaflet.awesome-markers.css&quot;/&gt;\n",
       "    &lt;link rel=&quot;stylesheet&quot; href=&quot;https://cdn.jsdelivr.net/gh/python-visualization/folium/folium/templates/leaflet.awesome.rotate.min.css&quot;/&gt;\n",
       "    \n",
       "            &lt;meta name=&quot;viewport&quot; content=&quot;width=device-width,\n",
       "                initial-scale=1.0, maximum-scale=1.0, user-scalable=no&quot; /&gt;\n",
       "            &lt;style&gt;\n",
       "                #map_18b7843258bfdec9380c4cd3d4f43d06 {\n",
       "                    position: relative;\n",
       "                    width: 100.0%;\n",
       "                    height: 100.0%;\n",
       "                    left: 0.0%;\n",
       "                    top: 0.0%;\n",
       "                }\n",
       "                .leaflet-container { font-size: 1rem; }\n",
       "            &lt;/style&gt;\n",
       "        \n",
       "&lt;/head&gt;\n",
       "&lt;body&gt;\n",
       "    \n",
       "    \n",
       "            &lt;div class=&quot;folium-map&quot; id=&quot;map_18b7843258bfdec9380c4cd3d4f43d06&quot; &gt;&lt;/div&gt;\n",
       "        \n",
       "&lt;/body&gt;\n",
       "&lt;script&gt;\n",
       "    \n",
       "    \n",
       "            var map_18b7843258bfdec9380c4cd3d4f43d06 = L.map(\n",
       "                &quot;map_18b7843258bfdec9380c4cd3d4f43d06&quot;,\n",
       "                {\n",
       "                    center: [35.833078390000004, 139.95580603333335],\n",
       "                    crs: L.CRS.EPSG3857,\n",
       "                    zoom: 17,\n",
       "                    zoomControl: true,\n",
       "                    preferCanvas: false,\n",
       "                }\n",
       "            );\n",
       "\n",
       "            \n",
       "\n",
       "        \n",
       "    \n",
       "            var tile_layer_183352e83e7bd5741985c5225947c964 = L.tileLayer(\n",
       "                &quot;https://{s}.tile.openstreetmap.org/{z}/{x}/{y}.png&quot;,\n",
       "                {&quot;attribution&quot;: &quot;Data by \\u0026copy; \\u003ca target=\\&quot;_blank\\&quot; href=\\&quot;http://openstreetmap.org\\&quot;\\u003eOpenStreetMap\\u003c/a\\u003e, under \\u003ca target=\\&quot;_blank\\&quot; href=\\&quot;http://www.openstreetmap.org/copyright\\&quot;\\u003eODbL\\u003c/a\\u003e.&quot;, &quot;detectRetina&quot;: false, &quot;maxNativeZoom&quot;: 18, &quot;maxZoom&quot;: 18, &quot;minZoom&quot;: 0, &quot;noWrap&quot;: false, &quot;opacity&quot;: 1, &quot;subdomains&quot;: &quot;abc&quot;, &quot;tms&quot;: false}\n",
       "            ).addTo(map_18b7843258bfdec9380c4cd3d4f43d06);\n",
       "        \n",
       "    \n",
       "            var tile_layer_5ace285117b2ea5595ee65e3fa199e96 = L.tileLayer(\n",
       "                &quot;https://cyberjapandata.gsi.go.jp/xyz/seamlessphoto/{z}/{x}/{y}.jpg&quot;,\n",
       "                {&quot;attribution&quot;: &quot;\\u56fd\\u571f\\u5730\\u7406\\u9662&quot;, &quot;detectRetina&quot;: false, &quot;maxNativeZoom&quot;: 18, &quot;maxZoom&quot;: 18, &quot;minZoom&quot;: 0, &quot;noWrap&quot;: false, &quot;opacity&quot;: 1, &quot;subdomains&quot;: &quot;abc&quot;, &quot;tms&quot;: false}\n",
       "            ).addTo(map_18b7843258bfdec9380c4cd3d4f43d06);\n",
       "        \n",
       "    \n",
       "            var tile_layer_025aab2964234a42edf8be292a7a4136 = L.tileLayer(\n",
       "                &quot;https://cyberjapandata.gsi.go.jp/xyz/gazo4/{z}/{x}/{y}.jpg&quot;,\n",
       "                {&quot;attribution&quot;: &quot;\\u56fd\\u571f\\u5730\\u7406\\u9662&quot;, &quot;detectRetina&quot;: false, &quot;maxNativeZoom&quot;: 18, &quot;maxZoom&quot;: 18, &quot;minZoom&quot;: 0, &quot;noWrap&quot;: false, &quot;opacity&quot;: 1, &quot;subdomains&quot;: &quot;abc&quot;, &quot;tms&quot;: false}\n",
       "            ).addTo(map_18b7843258bfdec9380c4cd3d4f43d06);\n",
       "        \n",
       "    \n",
       "            var tile_layer_20cd27bce3ce5b43bc30e95ee4cd8abe = L.tileLayer(\n",
       "                &quot;https://cyberjapandata.gsi.go.jp/xyz/gazo3/{z}/{x}/{y}.jpg&quot;,\n",
       "                {&quot;attribution&quot;: &quot;\\u56fd\\u571f\\u5730\\u7406\\u9662&quot;, &quot;detectRetina&quot;: false, &quot;maxNativeZoom&quot;: 18, &quot;maxZoom&quot;: 18, &quot;minZoom&quot;: 0, &quot;noWrap&quot;: false, &quot;opacity&quot;: 1, &quot;subdomains&quot;: &quot;abc&quot;, &quot;tms&quot;: false}\n",
       "            ).addTo(map_18b7843258bfdec9380c4cd3d4f43d06);\n",
       "        \n",
       "    \n",
       "            var tile_layer_287d33af5165b8ddec1befe73552bf02 = L.tileLayer(\n",
       "                &quot;https://cyberjapandata.gsi.go.jp/xyz/gazo2/{z}/{x}/{y}.jpg&quot;,\n",
       "                {&quot;attribution&quot;: &quot;\\u56fd\\u571f\\u5730\\u7406\\u9662&quot;, &quot;detectRetina&quot;: false, &quot;maxNativeZoom&quot;: 18, &quot;maxZoom&quot;: 18, &quot;minZoom&quot;: 0, &quot;noWrap&quot;: false, &quot;opacity&quot;: 1, &quot;subdomains&quot;: &quot;abc&quot;, &quot;tms&quot;: false}\n",
       "            ).addTo(map_18b7843258bfdec9380c4cd3d4f43d06);\n",
       "        \n",
       "    \n",
       "            var tile_layer_067d9e1841ea52c2a85339d36e264c27 = L.tileLayer(\n",
       "                &quot;https://cyberjapandata.gsi.go.jp/xyz/gazo1/{z}/{x}/{y}.jpg&quot;,\n",
       "                {&quot;attribution&quot;: &quot;\\u56fd\\u571f\\u5730\\u7406\\u9662&quot;, &quot;detectRetina&quot;: false, &quot;maxNativeZoom&quot;: 18, &quot;maxZoom&quot;: 18, &quot;minZoom&quot;: 0, &quot;noWrap&quot;: false, &quot;opacity&quot;: 1, &quot;subdomains&quot;: &quot;abc&quot;, &quot;tms&quot;: false}\n",
       "            ).addTo(map_18b7843258bfdec9380c4cd3d4f43d06);\n",
       "        \n",
       "    \n",
       "            var tile_layer_d00d8fe6d0795db5d0e208b2306cd06f = L.tileLayer(\n",
       "                &quot;https://cyberjapandata.gsi.go.jp/xyz/ort_old10/{z}/{x}/{y}.png&quot;,\n",
       "                {&quot;attribution&quot;: &quot;\\u56fd\\u571f\\u5730\\u7406\\u9662&quot;, &quot;detectRetina&quot;: false, &quot;maxNativeZoom&quot;: 18, &quot;maxZoom&quot;: 18, &quot;minZoom&quot;: 0, &quot;noWrap&quot;: false, &quot;opacity&quot;: 1, &quot;subdomains&quot;: &quot;abc&quot;, &quot;tms&quot;: false}\n",
       "            ).addTo(map_18b7843258bfdec9380c4cd3d4f43d06);\n",
       "        \n",
       "    \n",
       "            var layer_control_7fffd0f9a15651f0835bcfebe8b56573 = {\n",
       "                base_layers : {\n",
       "                    &quot;openstreetmap&quot; : tile_layer_183352e83e7bd5741985c5225947c964,\n",
       "                    &quot;2007\\u5e74\\u4ee5\\u964d&quot; : tile_layer_5ace285117b2ea5595ee65e3fa199e96,\n",
       "                    &quot;1987\\u5e74\\uff5e1990\\u5e74&quot; : tile_layer_025aab2964234a42edf8be292a7a4136,\n",
       "                    &quot;1984\\u5e74\\uff5e1986\\u5e74&quot; : tile_layer_20cd27bce3ce5b43bc30e95ee4cd8abe,\n",
       "                    &quot;1979\\u5e74\\uff5e1983\\u5e74&quot; : tile_layer_287d33af5165b8ddec1befe73552bf02,\n",
       "                    &quot;1974\\u5e74\\uff5e1978\\u5e74&quot; : tile_layer_067d9e1841ea52c2a85339d36e264c27,\n",
       "                    &quot;1961\\u5e74\\uff5e1969\\u5e74&quot; : tile_layer_d00d8fe6d0795db5d0e208b2306cd06f,\n",
       "                },\n",
       "                overlays :  {\n",
       "                },\n",
       "            };\n",
       "            L.control.layers(\n",
       "                layer_control_7fffd0f9a15651f0835bcfebe8b56573.base_layers,\n",
       "                layer_control_7fffd0f9a15651f0835bcfebe8b56573.overlays,\n",
       "                {&quot;autoZIndex&quot;: true, &quot;collapsed&quot;: true, &quot;position&quot;: &quot;topright&quot;}\n",
       "            ).addTo(map_18b7843258bfdec9380c4cd3d4f43d06);\n",
       "            tile_layer_5ace285117b2ea5595ee65e3fa199e96.remove();\n",
       "            tile_layer_025aab2964234a42edf8be292a7a4136.remove();\n",
       "            tile_layer_20cd27bce3ce5b43bc30e95ee4cd8abe.remove();\n",
       "            tile_layer_287d33af5165b8ddec1befe73552bf02.remove();\n",
       "            tile_layer_067d9e1841ea52c2a85339d36e264c27.remove();\n",
       "            tile_layer_d00d8fe6d0795db5d0e208b2306cd06f.remove();\n",
       "        \n",
       "    \n",
       "            var marker_e06639f961259adc622a828dfc4d8b81 = L.marker(\n",
       "                [35.833049, 139.9550264],\n",
       "                {}\n",
       "            ).addTo(map_18b7843258bfdec9380c4cd3d4f43d06);\n",
       "        \n",
       "    \n",
       "            var icon_f335aebd8f940183c777bacae0c54cee = L.AwesomeMarkers.icon(\n",
       "                {&quot;extraClasses&quot;: &quot;fa-rotate-0&quot;, &quot;icon&quot;: &quot;info-sign&quot;, &quot;iconColor&quot;: &quot;white&quot;, &quot;markerColor&quot;: &quot;green&quot;, &quot;prefix&quot;: &quot;glyphicon&quot;}\n",
       "            );\n",
       "            marker_e06639f961259adc622a828dfc4d8b81.setIcon(icon_f335aebd8f940183c777bacae0c54cee);\n",
       "        \n",
       "    \n",
       "        var popup_709a020db67e387d73f2466fcb13823b = L.popup({&quot;maxWidth&quot;: &quot;100%&quot;});\n",
       "\n",
       "        \n",
       "            \n",
       "                var html_1c06aa6cdb8f3d35724d14bd1c6daae7 = $(`&lt;div id=&quot;html_1c06aa6cdb8f3d35724d14bd1c6daae7&quot; style=&quot;width: 100.0%; height: 100.0%;&quot;&gt;&lt;div style=&quot;width:350px&quot;&gt;校舎名の「かえで」には「楓の果実が2つの種子が密着した姿で、それぞれから翼が伸びる翼果であることから、仲間同士で切磋琢磨し合い、成長を遂げていくことができる人材の育成を行う」という願いが込められています。&lt;/div&gt;&lt;/div&gt;`)[0];\n",
       "                popup_709a020db67e387d73f2466fcb13823b.setContent(html_1c06aa6cdb8f3d35724d14bd1c6daae7);\n",
       "            \n",
       "        \n",
       "\n",
       "        marker_e06639f961259adc622a828dfc4d8b81.bindPopup(popup_709a020db67e387d73f2466fcb13823b)\n",
       "        ;\n",
       "\n",
       "        \n",
       "    \n",
       "    \n",
       "            marker_e06639f961259adc622a828dfc4d8b81.bindTooltip(\n",
       "                `&lt;div&gt;\n",
       "                     校舎「かえで」\n",
       "                 &lt;/div&gt;`,\n",
       "                {&quot;sticky&quot;: true}\n",
       "            );\n",
       "        \n",
       "    \n",
       "            var marker_188dc9d48a5ac7d9b13bec4da7e3999b = L.marker(\n",
       "                [35.83220147, 139.9559064],\n",
       "                {}\n",
       "            ).addTo(map_18b7843258bfdec9380c4cd3d4f43d06);\n",
       "        \n",
       "    \n",
       "            var icon_9e582f848c4def5417466c06855a3463 = L.AwesomeMarkers.icon(\n",
       "                {&quot;extraClasses&quot;: &quot;fa-rotate-0&quot;, &quot;icon&quot;: &quot;info-sign&quot;, &quot;iconColor&quot;: &quot;white&quot;, &quot;markerColor&quot;: &quot;green&quot;, &quot;prefix&quot;: &quot;glyphicon&quot;}\n",
       "            );\n",
       "            marker_188dc9d48a5ac7d9b13bec4da7e3999b.setIcon(icon_9e582f848c4def5417466c06855a3463);\n",
       "        \n",
       "    \n",
       "        var popup_95c2c9ac723f02ba9d196ab54f9587d1 = L.popup({&quot;maxWidth&quot;: &quot;100%&quot;});\n",
       "\n",
       "        \n",
       "            \n",
       "                var html_43e39b7231acd7ab5bc8f899e37b5991 = $(`&lt;div id=&quot;html_43e39b7231acd7ab5bc8f899e37b5991&quot; style=&quot;width: 100.0%; height: 100.0%;&quot;&gt;&lt;div style=&quot;width:350px&quot;&gt;麗澤大学開学50周年記念事業の一環として2011年4月&quot;森と共生するキャンパス&quot;をコンセプトに建設された校舎「あすなろ」。このコンセプトが高く評価され、2012年度グッドデザイン賞を受賞しました。&lt;/div&gt;&lt;/div&gt;`)[0];\n",
       "                popup_95c2c9ac723f02ba9d196ab54f9587d1.setContent(html_43e39b7231acd7ab5bc8f899e37b5991);\n",
       "            \n",
       "        \n",
       "\n",
       "        marker_188dc9d48a5ac7d9b13bec4da7e3999b.bindPopup(popup_95c2c9ac723f02ba9d196ab54f9587d1)\n",
       "        ;\n",
       "\n",
       "        \n",
       "    \n",
       "    \n",
       "            marker_188dc9d48a5ac7d9b13bec4da7e3999b.bindTooltip(\n",
       "                `&lt;div&gt;\n",
       "                     校舎「あすなろ」\n",
       "                 &lt;/div&gt;`,\n",
       "                {&quot;sticky&quot;: true}\n",
       "            );\n",
       "        \n",
       "    \n",
       "            var marker_1d78ac91e1f468d6938710920d67ee3b = L.marker(\n",
       "                [35.83286248, 139.9559251],\n",
       "                {}\n",
       "            ).addTo(map_18b7843258bfdec9380c4cd3d4f43d06);\n",
       "        \n",
       "    \n",
       "            var icon_ac8d70068441b8368cb0071feb0aed6a = L.AwesomeMarkers.icon(\n",
       "                {&quot;extraClasses&quot;: &quot;fa-rotate-0&quot;, &quot;icon&quot;: &quot;info-sign&quot;, &quot;iconColor&quot;: &quot;white&quot;, &quot;markerColor&quot;: &quot;green&quot;, &quot;prefix&quot;: &quot;glyphicon&quot;}\n",
       "            );\n",
       "            marker_1d78ac91e1f468d6938710920d67ee3b.setIcon(icon_ac8d70068441b8368cb0071feb0aed6a);\n",
       "        \n",
       "    \n",
       "        var popup_c8f1f50befd089b7cd93e33808427bff = L.popup({&quot;maxWidth&quot;: &quot;100%&quot;});\n",
       "\n",
       "        \n",
       "            \n",
       "                var html_52dcfc935d209b8bba68149b884195bb = $(`&lt;div id=&quot;html_52dcfc935d209b8bba68149b884195bb&quot; style=&quot;width: 100.0%; height: 100.0%;&quot;&gt;&lt;div style=&quot;width:350px&quot;&gt;AVホール・CALL教室を持ち、授業開講時は8:50から19:00（閉講期間中は9:00から16:45）まで利用可能。開架式を採用しており、貴重書を除くほとんどの資料を、自由に閲覧することができます。&lt;br&gt;&lt;br&gt; 開館時間は8：50～19：00（月～金）&lt;br&gt; ※授業閉講時は9：00～16：45まで開館（月～金）&lt;/div&gt;&lt;/div&gt;`)[0];\n",
       "                popup_c8f1f50befd089b7cd93e33808427bff.setContent(html_52dcfc935d209b8bba68149b884195bb);\n",
       "            \n",
       "        \n",
       "\n",
       "        marker_1d78ac91e1f468d6938710920d67ee3b.bindPopup(popup_c8f1f50befd089b7cd93e33808427bff)\n",
       "        ;\n",
       "\n",
       "        \n",
       "    \n",
       "    \n",
       "            marker_1d78ac91e1f468d6938710920d67ee3b.bindTooltip(\n",
       "                `&lt;div&gt;\n",
       "                     図書館\n",
       "                 &lt;/div&gt;`,\n",
       "                {&quot;sticky&quot;: true}\n",
       "            );\n",
       "        \n",
       "    \n",
       "            var marker_6c99766b133cd5428ec0a776e7c5a7da = L.marker(\n",
       "                [35.83430366, 139.9549849],\n",
       "                {}\n",
       "            ).addTo(map_18b7843258bfdec9380c4cd3d4f43d06);\n",
       "        \n",
       "    \n",
       "            var icon_4addca3c1805bc3d0ce65c2d6d6ab700 = L.AwesomeMarkers.icon(\n",
       "                {&quot;extraClasses&quot;: &quot;fa-rotate-0&quot;, &quot;icon&quot;: &quot;info-sign&quot;, &quot;iconColor&quot;: &quot;white&quot;, &quot;markerColor&quot;: &quot;cadetblue&quot;, &quot;prefix&quot;: &quot;glyphicon&quot;}\n",
       "            );\n",
       "            marker_6c99766b133cd5428ec0a776e7c5a7da.setIcon(icon_4addca3c1805bc3d0ce65c2d6d6ab700);\n",
       "        \n",
       "    \n",
       "        var popup_d6751860a8d4b46bfef2e69e36ebc979 = L.popup({&quot;maxWidth&quot;: &quot;100%&quot;});\n",
       "\n",
       "        \n",
       "            \n",
       "                var html_511eca6f6eec4c145de333c7ed3e1156 = $(`&lt;div id=&quot;html_511eca6f6eec4c145de333c7ed3e1156&quot; style=&quot;width: 100.0%; height: 100.0%;&quot;&gt;&lt;div style=&quot;width:350px&quot;&gt;2022年9月にリニューアルオープン。木目とグリーンを基調としたアットホームな雰囲気で、窓から見える「緑」の景色とも調和した作りとなっています。「1人席」や「ソファ席」、「ベンチ席」、「ミーティングルーム」等の様々な空間で過ごせるような工夫がされています。 2階にはカフェコーナーを設置し、焼き立てパン、淹れ立てコーヒー、サーティーワンアイスが購入できます。&lt;/div&gt;&lt;/div&gt;`)[0];\n",
       "                popup_d6751860a8d4b46bfef2e69e36ebc979.setContent(html_511eca6f6eec4c145de333c7ed3e1156);\n",
       "            \n",
       "        \n",
       "\n",
       "        marker_6c99766b133cd5428ec0a776e7c5a7da.bindPopup(popup_d6751860a8d4b46bfef2e69e36ebc979)\n",
       "        ;\n",
       "\n",
       "        \n",
       "    \n",
       "    \n",
       "            marker_6c99766b133cd5428ec0a776e7c5a7da.bindTooltip(\n",
       "                `&lt;div&gt;\n",
       "                     学生会館「ひいらぎ」\n",
       "                 &lt;/div&gt;`,\n",
       "                {&quot;sticky&quot;: true}\n",
       "            );\n",
       "        \n",
       "    \n",
       "            var marker_20050272317f16e410b8ccedcd876875 = L.marker(\n",
       "                [35.83193431, 139.9568801],\n",
       "                {}\n",
       "            ).addTo(map_18b7843258bfdec9380c4cd3d4f43d06);\n",
       "        \n",
       "    \n",
       "            var icon_6fdbc99ef17e9df1a01968be409666bc = L.AwesomeMarkers.icon(\n",
       "                {&quot;extraClasses&quot;: &quot;fa-rotate-0&quot;, &quot;icon&quot;: &quot;info-sign&quot;, &quot;iconColor&quot;: &quot;white&quot;, &quot;markerColor&quot;: &quot;green&quot;, &quot;prefix&quot;: &quot;glyphicon&quot;}\n",
       "            );\n",
       "            marker_20050272317f16e410b8ccedcd876875.setIcon(icon_6fdbc99ef17e9df1a01968be409666bc);\n",
       "        \n",
       "    \n",
       "        var popup_e6d2a36e1867e2a03ddc1f1702205a06 = L.popup({&quot;maxWidth&quot;: &quot;100%&quot;});\n",
       "\n",
       "        \n",
       "            \n",
       "                var html_229379259e23685cf172fee7c1683f07 = $(`&lt;div id=&quot;html_229379259e23685cf172fee7c1683f07&quot; style=&quot;width: 100.0%; height: 100.0%;&quot;&gt;&lt;div style=&quot;width:350px&quot;&gt;2006年（平成18年）2月竣工。大学院、研究センター、情報システム部、麗澤オープンカレッジが入る複合施設。教育活動、研究活動、社会貢献活動を積極的に推進し、これからの生涯学習への需要に的確に応えていくことを目的とした建物です。&lt;/div&gt;&lt;/div&gt;`)[0];\n",
       "                popup_e6d2a36e1867e2a03ddc1f1702205a06.setContent(html_229379259e23685cf172fee7c1683f07);\n",
       "            \n",
       "        \n",
       "\n",
       "        marker_20050272317f16e410b8ccedcd876875.bindPopup(popup_e6d2a36e1867e2a03ddc1f1702205a06)\n",
       "        ;\n",
       "\n",
       "        \n",
       "    \n",
       "    \n",
       "            marker_20050272317f16e410b8ccedcd876875.bindTooltip(\n",
       "                `&lt;div&gt;\n",
       "                     麗澤大学生涯教育プラザ\n",
       "                 &lt;/div&gt;`,\n",
       "                {&quot;sticky&quot;: true}\n",
       "            );\n",
       "        \n",
       "    \n",
       "            var marker_5563e932f048dff237cbdb8be8b6a928 = L.marker(\n",
       "                [35.83411942, 139.9561133],\n",
       "                {}\n",
       "            ).addTo(map_18b7843258bfdec9380c4cd3d4f43d06);\n",
       "        \n",
       "    \n",
       "            var icon_4ba7b0ebee32ffd182eb0071a68a905c = L.AwesomeMarkers.icon(\n",
       "                {&quot;extraClasses&quot;: &quot;fa-rotate-0&quot;, &quot;icon&quot;: &quot;info-sign&quot;, &quot;iconColor&quot;: &quot;white&quot;, &quot;markerColor&quot;: &quot;darkred&quot;, &quot;prefix&quot;: &quot;glyphicon&quot;}\n",
       "            );\n",
       "            marker_5563e932f048dff237cbdb8be8b6a928.setIcon(icon_4ba7b0ebee32ffd182eb0071a68a905c);\n",
       "        \n",
       "    \n",
       "        var popup_1f300efef87c2b454ae95299dacb838c = L.popup({&quot;maxWidth&quot;: &quot;100%&quot;});\n",
       "\n",
       "        \n",
       "            \n",
       "                var html_af3388627f54ba7fbaf7276535f91729 = $(`&lt;div id=&quot;html_af3388627f54ba7fbaf7276535f91729&quot; style=&quot;width: 100.0%; height: 100.0%;&quot;&gt;&lt;div style=&quot;width:350px&quot;&gt;&lt;img src=&quot;https://www.reitaku-u.ac.jp/news/images/fb67d3c1fc242f1c5205423a598be848832b6c2b.jpg&quot; width=100%&gt; &lt;p&gt; さつきの花言葉は「節制」。強健で花付きがよく、毎年花が満開に咲きます。新しい学び舎で、強い信念を持って学問に励み、1人1人が満開の花を咲かせられるようにという想いが込められています。 &lt;/p&gt;&lt;/div&gt;&lt;/div&gt;`)[0];\n",
       "                popup_1f300efef87c2b454ae95299dacb838c.setContent(html_af3388627f54ba7fbaf7276535f91729);\n",
       "            \n",
       "        \n",
       "\n",
       "        marker_5563e932f048dff237cbdb8be8b6a928.bindPopup(popup_1f300efef87c2b454ae95299dacb838c)\n",
       "        ;\n",
       "\n",
       "        \n",
       "    \n",
       "    \n",
       "            marker_5563e932f048dff237cbdb8be8b6a928.bindTooltip(\n",
       "                `&lt;div&gt;\n",
       "                     校舎「さつき」\n",
       "                 &lt;/div&gt;`,\n",
       "                {&quot;sticky&quot;: true}\n",
       "            );\n",
       "        \n",
       "&lt;/script&gt;\n",
       "&lt;/html&gt;\" style=\"position:absolute;width:100%;height:100%;left:0;top:0;border:none !important;\" allowfullscreen webkitallowfullscreen mozallowfullscreen></iframe></div></div>"
      ],
      "text/plain": [
       "<folium.folium.Map at 0x1f8952a2550>"
      ]
     },
     "execution_count": 22,
     "metadata": {},
     "output_type": "execute_result"
    }
   ],
   "source": [
    "# make the map\n",
    "m = folium.Map(location=[center_lat,center_lon], \n",
    "               zoom_start=17,\n",
    "               attr = '国土地理院')\n",
    "\n",
    "# add basemaps\n",
    "folium.TileLayer(name='2007年以降',tiles='https://cyberjapandata.gsi.go.jp/xyz/seamlessphoto/{z}/{x}/{y}.jpg',attr='国土地理院').add_to(m)\n",
    "folium.TileLayer(name='1987年～1990年',tiles='https://cyberjapandata.gsi.go.jp/xyz/gazo4/{z}/{x}/{y}.jpg',attr='国土地理院').add_to(m)\n",
    "folium.TileLayer(name='1984年～1986年',tiles='https://cyberjapandata.gsi.go.jp/xyz/gazo3/{z}/{x}/{y}.jpg',attr='国土地理院').add_to(m)\n",
    "folium.TileLayer(name='1979年～1983年',tiles='https://cyberjapandata.gsi.go.jp/xyz/gazo2/{z}/{x}/{y}.jpg',attr='国土地理院').add_to(m)\n",
    "folium.TileLayer(name='1974年～1978年',tiles='https://cyberjapandata.gsi.go.jp/xyz/gazo1/{z}/{x}/{y}.jpg',attr='国土地理院').add_to(m)\n",
    "folium.TileLayer(name='1961年～1969年',tiles='https://cyberjapandata.gsi.go.jp/xyz/ort_old10/{z}/{x}/{y}.png',attr='国土地理院').add_to(m)\n",
    "\n",
    "# basemapが選べるボタンをマップに足す\n",
    "folium.LayerControl().add_to(m)\n",
    "\n",
    "# add points\n",
    "for index, row in df.iterrows():\n",
    "    latlon = [row['latitude'],row['longitude']]\n",
    "    folium.Marker(latlon, popup='<div style=\"width:350px\">'+row['description']+'</div>', tooltip=row['name'],icon=folium.Icon(color=row['color'])).add_to(m)\n",
    "\n",
    "# show the map\n",
    "m\n",
    "\n"
   ]
  },
  {
   "cell_type": "code",
   "execution_count": 23,
   "metadata": {},
   "outputs": [],
   "source": [
    "# save the map as an html file\n",
    "m.save('map.html')"
   ]
  },
  {
   "attachments": {},
   "cell_type": "markdown",
   "metadata": {},
   "source": [
    "このように同じ「場所」を違う視点から観察することができる。これを見て、何を感じますか？"
   ]
  },
  {
   "attachments": {},
   "cell_type": "markdown",
   "metadata": {},
   "source": [
    "# Extra topic: Mapping Earthquakes\n",
    "\n",
    "世界の地震のデータをリアルタイムで提供しているのは United States Geological Survey (USGS)。このデータをcsv fileとしてダウンロードできるが、直接アクセスすることも可能である。この場合、 `csv` ではなく `geojson` というファイルフォーマットを使う。`geojson` はこれからも使うので、とりあえず、ここで紹介！\n",
    "\n",
    "`geojson` を扱うには新しいライブラリー【geopandas】を使う必要がある。\n",
    "\n",
    "[USGSの地震マップ](https://earthquake.usgs.gov/earthquakes/map/?extent=-82.76537,-120.23438&extent=84.9593,298.47656)"
   ]
  },
  {
   "cell_type": "code",
   "execution_count": 24,
   "metadata": {},
   "outputs": [],
   "source": [
    "import geopandas as gpd"
   ]
  },
  {
   "attachments": {},
   "cell_type": "markdown",
   "metadata": {},
   "source": [
    "`geopandas` を使ってUSGSからのリアルタイムデータを読み込む。`gdf` とは `geodataframe` の略である。"
   ]
  },
  {
   "cell_type": "code",
   "execution_count": 25,
   "metadata": {},
   "outputs": [],
   "source": [
    "gdf = gpd.read_file('https://earthquake.usgs.gov/earthquakes/feed/v1.0/summary/2.5_day.geojson')"
   ]
  },
  {
   "cell_type": "code",
   "execution_count": 26,
   "metadata": {},
   "outputs": [
    {
     "data": {
      "text/html": [
       "<div>\n",
       "<style scoped>\n",
       "    .dataframe tbody tr th:only-of-type {\n",
       "        vertical-align: middle;\n",
       "    }\n",
       "\n",
       "    .dataframe tbody tr th {\n",
       "        vertical-align: top;\n",
       "    }\n",
       "\n",
       "    .dataframe thead th {\n",
       "        text-align: right;\n",
       "    }\n",
       "</style>\n",
       "<table border=\"1\" class=\"dataframe\">\n",
       "  <thead>\n",
       "    <tr style=\"text-align: right;\">\n",
       "      <th></th>\n",
       "      <th>id</th>\n",
       "      <th>mag</th>\n",
       "      <th>place</th>\n",
       "      <th>time</th>\n",
       "      <th>updated</th>\n",
       "      <th>tz</th>\n",
       "      <th>url</th>\n",
       "      <th>detail</th>\n",
       "      <th>felt</th>\n",
       "      <th>cdi</th>\n",
       "      <th>...</th>\n",
       "      <th>sources</th>\n",
       "      <th>types</th>\n",
       "      <th>nst</th>\n",
       "      <th>dmin</th>\n",
       "      <th>rms</th>\n",
       "      <th>gap</th>\n",
       "      <th>magType</th>\n",
       "      <th>type</th>\n",
       "      <th>title</th>\n",
       "      <th>geometry</th>\n",
       "    </tr>\n",
       "  </thead>\n",
       "  <tbody>\n",
       "    <tr>\n",
       "      <th>0</th>\n",
       "      <td>us7000l80y</td>\n",
       "      <td>4.90</td>\n",
       "      <td>Kuril Islands</td>\n",
       "      <td>1698826129166</td>\n",
       "      <td>1698827177040</td>\n",
       "      <td>None</td>\n",
       "      <td>https://earthquake.usgs.gov/earthquakes/eventp...</td>\n",
       "      <td>https://earthquake.usgs.gov/earthquakes/feed/v...</td>\n",
       "      <td>NaN</td>\n",
       "      <td>NaN</td>\n",
       "      <td>...</td>\n",
       "      <td>,us,</td>\n",
       "      <td>,origin,phase-data,</td>\n",
       "      <td>54.0</td>\n",
       "      <td>4.613</td>\n",
       "      <td>1.12</td>\n",
       "      <td>170.0</td>\n",
       "      <td>mb</td>\n",
       "      <td>earthquake</td>\n",
       "      <td>M 4.9 - Kuril Islands</td>\n",
       "      <td>POINT Z (149.00380 44.35770 56.44100)</td>\n",
       "    </tr>\n",
       "    <tr>\n",
       "      <th>1</th>\n",
       "      <td>ak023e0jc723</td>\n",
       "      <td>3.20</td>\n",
       "      <td>34 km SSW of Glacier View, Alaska</td>\n",
       "      <td>1698824624611</td>\n",
       "      <td>1698827428658</td>\n",
       "      <td>None</td>\n",
       "      <td>https://earthquake.usgs.gov/earthquakes/eventp...</td>\n",
       "      <td>https://earthquake.usgs.gov/earthquakes/feed/v...</td>\n",
       "      <td>6.0</td>\n",
       "      <td>2.7</td>\n",
       "      <td>...</td>\n",
       "      <td>,ak,</td>\n",
       "      <td>,dyfi,origin,phase-data,</td>\n",
       "      <td>NaN</td>\n",
       "      <td>NaN</td>\n",
       "      <td>0.75</td>\n",
       "      <td>NaN</td>\n",
       "      <td>ml</td>\n",
       "      <td>earthquake</td>\n",
       "      <td>M 3.2 - 34 km SSW of Glacier View, Alaska</td>\n",
       "      <td>POINT Z (-147.82590 61.51110 13.60000)</td>\n",
       "    </tr>\n",
       "    <tr>\n",
       "      <th>2</th>\n",
       "      <td>us7000l80q</td>\n",
       "      <td>5.20</td>\n",
       "      <td>94 km ESE of Lata, Solomon Islands</td>\n",
       "      <td>1698821503829</td>\n",
       "      <td>1698822700040</td>\n",
       "      <td>None</td>\n",
       "      <td>https://earthquake.usgs.gov/earthquakes/eventp...</td>\n",
       "      <td>https://earthquake.usgs.gov/earthquakes/feed/v...</td>\n",
       "      <td>NaN</td>\n",
       "      <td>NaN</td>\n",
       "      <td>...</td>\n",
       "      <td>,us,</td>\n",
       "      <td>,origin,phase-data,</td>\n",
       "      <td>43.0</td>\n",
       "      <td>9.806</td>\n",
       "      <td>0.78</td>\n",
       "      <td>122.0</td>\n",
       "      <td>mww</td>\n",
       "      <td>earthquake</td>\n",
       "      <td>M 5.2 - 94 km ESE of Lata, Solomon Islands</td>\n",
       "      <td>POINT Z (166.62740 -10.95200 66.40500)</td>\n",
       "    </tr>\n",
       "    <tr>\n",
       "      <th>3</th>\n",
       "      <td>us7000l80p</td>\n",
       "      <td>4.60</td>\n",
       "      <td>94 km ESE of Lata, Solomon Islands</td>\n",
       "      <td>1698820178508</td>\n",
       "      <td>1698821922040</td>\n",
       "      <td>None</td>\n",
       "      <td>https://earthquake.usgs.gov/earthquakes/eventp...</td>\n",
       "      <td>https://earthquake.usgs.gov/earthquakes/feed/v...</td>\n",
       "      <td>NaN</td>\n",
       "      <td>NaN</td>\n",
       "      <td>...</td>\n",
       "      <td>,us,</td>\n",
       "      <td>,origin,phase-data,</td>\n",
       "      <td>34.0</td>\n",
       "      <td>9.808</td>\n",
       "      <td>0.51</td>\n",
       "      <td>130.0</td>\n",
       "      <td>mb</td>\n",
       "      <td>earthquake</td>\n",
       "      <td>M 4.6 - 94 km ESE of Lata, Solomon Islands</td>\n",
       "      <td>POINT Z (166.62860 -10.94990 73.86100)</td>\n",
       "    </tr>\n",
       "    <tr>\n",
       "      <th>4</th>\n",
       "      <td>nc73954455</td>\n",
       "      <td>2.45</td>\n",
       "      <td>19 km NW of Parkfield, CA</td>\n",
       "      <td>1698813050560</td>\n",
       "      <td>1698818773298</td>\n",
       "      <td>None</td>\n",
       "      <td>https://earthquake.usgs.gov/earthquakes/eventp...</td>\n",
       "      <td>https://earthquake.usgs.gov/earthquakes/feed/v...</td>\n",
       "      <td>NaN</td>\n",
       "      <td>NaN</td>\n",
       "      <td>...</td>\n",
       "      <td>,nc,</td>\n",
       "      <td>,focal-mechanism,nearby-cities,origin,phase-da...</td>\n",
       "      <td>42.0</td>\n",
       "      <td>NaN</td>\n",
       "      <td>0.06</td>\n",
       "      <td>43.0</td>\n",
       "      <td>md</td>\n",
       "      <td>earthquake</td>\n",
       "      <td>M 2.5 - 19 km NW of Parkfield, CA</td>\n",
       "      <td>POINT Z (-120.58033 36.02083 4.25000)</td>\n",
       "    </tr>\n",
       "  </tbody>\n",
       "</table>\n",
       "<p>5 rows × 28 columns</p>\n",
       "</div>"
      ],
      "text/plain": [
       "             id   mag                               place           time  \\\n",
       "0    us7000l80y  4.90                       Kuril Islands  1698826129166   \n",
       "1  ak023e0jc723  3.20   34 km SSW of Glacier View, Alaska  1698824624611   \n",
       "2    us7000l80q  5.20  94 km ESE of Lata, Solomon Islands  1698821503829   \n",
       "3    us7000l80p  4.60  94 km ESE of Lata, Solomon Islands  1698820178508   \n",
       "4    nc73954455  2.45           19 km NW of Parkfield, CA  1698813050560   \n",
       "\n",
       "         updated    tz                                                url  \\\n",
       "0  1698827177040  None  https://earthquake.usgs.gov/earthquakes/eventp...   \n",
       "1  1698827428658  None  https://earthquake.usgs.gov/earthquakes/eventp...   \n",
       "2  1698822700040  None  https://earthquake.usgs.gov/earthquakes/eventp...   \n",
       "3  1698821922040  None  https://earthquake.usgs.gov/earthquakes/eventp...   \n",
       "4  1698818773298  None  https://earthquake.usgs.gov/earthquakes/eventp...   \n",
       "\n",
       "                                              detail  felt  cdi  ...  sources  \\\n",
       "0  https://earthquake.usgs.gov/earthquakes/feed/v...   NaN  NaN  ...     ,us,   \n",
       "1  https://earthquake.usgs.gov/earthquakes/feed/v...   6.0  2.7  ...     ,ak,   \n",
       "2  https://earthquake.usgs.gov/earthquakes/feed/v...   NaN  NaN  ...     ,us,   \n",
       "3  https://earthquake.usgs.gov/earthquakes/feed/v...   NaN  NaN  ...     ,us,   \n",
       "4  https://earthquake.usgs.gov/earthquakes/feed/v...   NaN  NaN  ...     ,nc,   \n",
       "\n",
       "                                               types   nst   dmin   rms  \\\n",
       "0                                ,origin,phase-data,  54.0  4.613  1.12   \n",
       "1                           ,dyfi,origin,phase-data,   NaN    NaN  0.75   \n",
       "2                                ,origin,phase-data,  43.0  9.806  0.78   \n",
       "3                                ,origin,phase-data,  34.0  9.808  0.51   \n",
       "4  ,focal-mechanism,nearby-cities,origin,phase-da...  42.0    NaN  0.06   \n",
       "\n",
       "     gap magType        type                                       title  \\\n",
       "0  170.0      mb  earthquake                       M 4.9 - Kuril Islands   \n",
       "1    NaN      ml  earthquake   M 3.2 - 34 km SSW of Glacier View, Alaska   \n",
       "2  122.0     mww  earthquake  M 5.2 - 94 km ESE of Lata, Solomon Islands   \n",
       "3  130.0      mb  earthquake  M 4.6 - 94 km ESE of Lata, Solomon Islands   \n",
       "4   43.0      md  earthquake           M 2.5 - 19 km NW of Parkfield, CA   \n",
       "\n",
       "                                 geometry  \n",
       "0   POINT Z (149.00380 44.35770 56.44100)  \n",
       "1  POINT Z (-147.82590 61.51110 13.60000)  \n",
       "2  POINT Z (166.62740 -10.95200 66.40500)  \n",
       "3  POINT Z (166.62860 -10.94990 73.86100)  \n",
       "4   POINT Z (-120.58033 36.02083 4.25000)  \n",
       "\n",
       "[5 rows x 28 columns]"
      ]
     },
     "execution_count": 26,
     "metadata": {},
     "output_type": "execute_result"
    }
   ],
   "source": [
    "# use head to output first 5 rows\n",
    "gdf.head()"
   ]
  },
  {
   "cell_type": "code",
   "execution_count": 27,
   "metadata": {},
   "outputs": [
    {
     "data": {
      "text/html": [
       "<div style=\"width:100%;\"><div style=\"position:relative;width:100%;height:0;padding-bottom:60%;\"><span style=\"color:#565656\">Make this Notebook Trusted to load map: File -> Trust Notebook</span><iframe srcdoc=\"&lt;!DOCTYPE html&gt;\n",
       "&lt;html&gt;\n",
       "&lt;head&gt;\n",
       "    \n",
       "    &lt;meta http-equiv=&quot;content-type&quot; content=&quot;text/html; charset=UTF-8&quot; /&gt;\n",
       "    \n",
       "        &lt;script&gt;\n",
       "            L_NO_TOUCH = false;\n",
       "            L_DISABLE_3D = false;\n",
       "        &lt;/script&gt;\n",
       "    \n",
       "    &lt;style&gt;html, body {width: 100%;height: 100%;margin: 0;padding: 0;}&lt;/style&gt;\n",
       "    &lt;style&gt;#map {position:absolute;top:0;bottom:0;right:0;left:0;}&lt;/style&gt;\n",
       "    &lt;script src=&quot;https://cdn.jsdelivr.net/npm/leaflet@1.9.3/dist/leaflet.js&quot;&gt;&lt;/script&gt;\n",
       "    &lt;script src=&quot;https://code.jquery.com/jquery-1.12.4.min.js&quot;&gt;&lt;/script&gt;\n",
       "    &lt;script src=&quot;https://cdn.jsdelivr.net/npm/bootstrap@5.2.2/dist/js/bootstrap.bundle.min.js&quot;&gt;&lt;/script&gt;\n",
       "    &lt;script src=&quot;https://cdnjs.cloudflare.com/ajax/libs/Leaflet.awesome-markers/2.0.2/leaflet.awesome-markers.js&quot;&gt;&lt;/script&gt;\n",
       "    &lt;link rel=&quot;stylesheet&quot; href=&quot;https://cdn.jsdelivr.net/npm/leaflet@1.9.3/dist/leaflet.css&quot;/&gt;\n",
       "    &lt;link rel=&quot;stylesheet&quot; href=&quot;https://cdn.jsdelivr.net/npm/bootstrap@5.2.2/dist/css/bootstrap.min.css&quot;/&gt;\n",
       "    &lt;link rel=&quot;stylesheet&quot; href=&quot;https://netdna.bootstrapcdn.com/bootstrap/3.0.0/css/bootstrap.min.css&quot;/&gt;\n",
       "    &lt;link rel=&quot;stylesheet&quot; href=&quot;https://cdn.jsdelivr.net/npm/@fortawesome/fontawesome-free@6.2.0/css/all.min.css&quot;/&gt;\n",
       "    &lt;link rel=&quot;stylesheet&quot; href=&quot;https://cdnjs.cloudflare.com/ajax/libs/Leaflet.awesome-markers/2.0.2/leaflet.awesome-markers.css&quot;/&gt;\n",
       "    &lt;link rel=&quot;stylesheet&quot; href=&quot;https://cdn.jsdelivr.net/gh/python-visualization/folium/folium/templates/leaflet.awesome.rotate.min.css&quot;/&gt;\n",
       "    \n",
       "            &lt;meta name=&quot;viewport&quot; content=&quot;width=device-width,\n",
       "                initial-scale=1.0, maximum-scale=1.0, user-scalable=no&quot; /&gt;\n",
       "            &lt;style&gt;\n",
       "                #map_d1274eacca6be3b45233fef43058ce61 {\n",
       "                    position: relative;\n",
       "                    width: 100.0%;\n",
       "                    height: 100.0%;\n",
       "                    left: 0.0%;\n",
       "                    top: 0.0%;\n",
       "                }\n",
       "                .leaflet-container { font-size: 1rem; }\n",
       "            &lt;/style&gt;\n",
       "        \n",
       "    \n",
       "                    &lt;style&gt;\n",
       "                        .foliumtooltip {\n",
       "                            \n",
       "                        }\n",
       "                       .foliumtooltip table{\n",
       "                            margin: auto;\n",
       "                        }\n",
       "                        .foliumtooltip tr{\n",
       "                            text-align: left;\n",
       "                        }\n",
       "                        .foliumtooltip th{\n",
       "                            padding: 2px; padding-right: 8px;\n",
       "                        }\n",
       "                    &lt;/style&gt;\n",
       "            \n",
       "&lt;/head&gt;\n",
       "&lt;body&gt;\n",
       "    \n",
       "    \n",
       "            &lt;div class=&quot;folium-map&quot; id=&quot;map_d1274eacca6be3b45233fef43058ce61&quot; &gt;&lt;/div&gt;\n",
       "        \n",
       "&lt;/body&gt;\n",
       "&lt;script&gt;\n",
       "    \n",
       "    \n",
       "            var map_d1274eacca6be3b45233fef43058ce61 = L.map(\n",
       "                &quot;map_d1274eacca6be3b45233fef43058ce61&quot;,\n",
       "                {\n",
       "                    center: [0.0, 0.0],\n",
       "                    crs: L.CRS.EPSG3857,\n",
       "                    zoom: 1,\n",
       "                    zoomControl: true,\n",
       "                    preferCanvas: false,\n",
       "                }\n",
       "            );\n",
       "\n",
       "            \n",
       "\n",
       "        \n",
       "    \n",
       "            var tile_layer_5f4b37dc13cac59c802861933d4d12b0 = L.tileLayer(\n",
       "                &quot;https://server.arcgisonline.com/ArcGIS/rest/services/World_Imagery/MapServer/tile/{z}/{y}/{x}&quot;,\n",
       "                {&quot;attribution&quot;: &quot;ESRI&quot;, &quot;detectRetina&quot;: false, &quot;maxNativeZoom&quot;: 18, &quot;maxZoom&quot;: 18, &quot;minZoom&quot;: 0, &quot;noWrap&quot;: false, &quot;opacity&quot;: 1, &quot;subdomains&quot;: &quot;abc&quot;, &quot;tms&quot;: false}\n",
       "            ).addTo(map_d1274eacca6be3b45233fef43058ce61);\n",
       "        \n",
       "    \n",
       "\n",
       "        function geo_json_61185fde40159aa0f8da2c465b8663dd_onEachFeature(feature, layer) {\n",
       "            layer.on({\n",
       "            });\n",
       "        };\n",
       "        var geo_json_61185fde40159aa0f8da2c465b8663dd = L.geoJson(null, {\n",
       "                onEachFeature: geo_json_61185fde40159aa0f8da2c465b8663dd_onEachFeature,\n",
       "            \n",
       "        });\n",
       "\n",
       "        function geo_json_61185fde40159aa0f8da2c465b8663dd_add (data) {\n",
       "            geo_json_61185fde40159aa0f8da2c465b8663dd\n",
       "                .addData(data)\n",
       "                .addTo(map_d1274eacca6be3b45233fef43058ce61);\n",
       "        }\n",
       "            geo_json_61185fde40159aa0f8da2c465b8663dd_add({&quot;bbox&quot;: [-179.0072, -28.7471, 178.9955, 67.2794], &quot;features&quot;: [{&quot;bbox&quot;: [149.0038, 44.3577, 149.0038, 44.3577], &quot;geometry&quot;: {&quot;coordinates&quot;: [149.0038, 44.3577, 56.441], &quot;type&quot;: &quot;Point&quot;}, &quot;id&quot;: &quot;0&quot;, &quot;properties&quot;: {&quot;alert&quot;: null, &quot;cdi&quot;: null, &quot;code&quot;: &quot;7000l80y&quot;, &quot;detail&quot;: &quot;https://earthquake.usgs.gov/earthquakes/feed/v1.0/detail/us7000l80y.geojson&quot;, &quot;dmin&quot;: 4.613, &quot;felt&quot;: null, &quot;gap&quot;: 170.0, &quot;id&quot;: &quot;us7000l80y&quot;, &quot;ids&quot;: &quot;,us7000l80y,&quot;, &quot;mag&quot;: 4.9, &quot;magType&quot;: &quot;mb&quot;, &quot;mmi&quot;: null, &quot;net&quot;: &quot;us&quot;, &quot;nst&quot;: 54.0, &quot;place&quot;: &quot;Kuril Islands&quot;, &quot;rms&quot;: 1.12, &quot;sig&quot;: 369, &quot;sources&quot;: &quot;,us,&quot;, &quot;status&quot;: &quot;reviewed&quot;, &quot;time&quot;: 1698826129166, &quot;title&quot;: &quot;M 4.9 - Kuril Islands&quot;, &quot;tsunami&quot;: 0, &quot;type&quot;: &quot;earthquake&quot;, &quot;types&quot;: &quot;,origin,phase-data,&quot;, &quot;tz&quot;: null, &quot;updated&quot;: 1698827177040, &quot;url&quot;: &quot;https://earthquake.usgs.gov/earthquakes/eventpage/us7000l80y&quot;}, &quot;type&quot;: &quot;Feature&quot;}, {&quot;bbox&quot;: [-147.8259, 61.5111, -147.8259, 61.5111], &quot;geometry&quot;: {&quot;coordinates&quot;: [-147.8259, 61.5111, 13.6], &quot;type&quot;: &quot;Point&quot;}, &quot;id&quot;: &quot;1&quot;, &quot;properties&quot;: {&quot;alert&quot;: null, &quot;cdi&quot;: 2.7, &quot;code&quot;: &quot;023e0jc723&quot;, &quot;detail&quot;: &quot;https://earthquake.usgs.gov/earthquakes/feed/v1.0/detail/ak023e0jc723.geojson&quot;, &quot;dmin&quot;: null, &quot;felt&quot;: 6.0, &quot;gap&quot;: null, &quot;id&quot;: &quot;ak023e0jc723&quot;, &quot;ids&quot;: &quot;,ak023e0jc723,&quot;, &quot;mag&quot;: 3.2, &quot;magType&quot;: &quot;ml&quot;, &quot;mmi&quot;: null, &quot;net&quot;: &quot;ak&quot;, &quot;nst&quot;: null, &quot;place&quot;: &quot;34 km SSW of Glacier View, Alaska&quot;, &quot;rms&quot;: 0.75, &quot;sig&quot;: 159, &quot;sources&quot;: &quot;,ak,&quot;, &quot;status&quot;: &quot;automatic&quot;, &quot;time&quot;: 1698824624611, &quot;title&quot;: &quot;M 3.2 - 34 km SSW of Glacier View, Alaska&quot;, &quot;tsunami&quot;: 0, &quot;type&quot;: &quot;earthquake&quot;, &quot;types&quot;: &quot;,dyfi,origin,phase-data,&quot;, &quot;tz&quot;: null, &quot;updated&quot;: 1698827428658, &quot;url&quot;: &quot;https://earthquake.usgs.gov/earthquakes/eventpage/ak023e0jc723&quot;}, &quot;type&quot;: &quot;Feature&quot;}, {&quot;bbox&quot;: [166.6274, -10.952, 166.6274, -10.952], &quot;geometry&quot;: {&quot;coordinates&quot;: [166.6274, -10.952, 66.405], &quot;type&quot;: &quot;Point&quot;}, &quot;id&quot;: &quot;2&quot;, &quot;properties&quot;: {&quot;alert&quot;: null, &quot;cdi&quot;: null, &quot;code&quot;: &quot;7000l80q&quot;, &quot;detail&quot;: &quot;https://earthquake.usgs.gov/earthquakes/feed/v1.0/detail/us7000l80q.geojson&quot;, &quot;dmin&quot;: 9.806, &quot;felt&quot;: null, &quot;gap&quot;: 122.0, &quot;id&quot;: &quot;us7000l80q&quot;, &quot;ids&quot;: &quot;,us7000l80q,&quot;, &quot;mag&quot;: 5.2, &quot;magType&quot;: &quot;mww&quot;, &quot;mmi&quot;: null, &quot;net&quot;: &quot;us&quot;, &quot;nst&quot;: 43.0, &quot;place&quot;: &quot;94 km ESE of Lata, Solomon Islands&quot;, &quot;rms&quot;: 0.78, &quot;sig&quot;: 416, &quot;sources&quot;: &quot;,us,&quot;, &quot;status&quot;: &quot;reviewed&quot;, &quot;time&quot;: 1698821503829, &quot;title&quot;: &quot;M 5.2 - 94 km ESE of Lata, Solomon Islands&quot;, &quot;tsunami&quot;: 0, &quot;type&quot;: &quot;earthquake&quot;, &quot;types&quot;: &quot;,origin,phase-data,&quot;, &quot;tz&quot;: null, &quot;updated&quot;: 1698822700040, &quot;url&quot;: &quot;https://earthquake.usgs.gov/earthquakes/eventpage/us7000l80q&quot;}, &quot;type&quot;: &quot;Feature&quot;}, {&quot;bbox&quot;: [166.6286, -10.9499, 166.6286, -10.9499], &quot;geometry&quot;: {&quot;coordinates&quot;: [166.6286, -10.9499, 73.861], &quot;type&quot;: &quot;Point&quot;}, &quot;id&quot;: &quot;3&quot;, &quot;properties&quot;: {&quot;alert&quot;: null, &quot;cdi&quot;: null, &quot;code&quot;: &quot;7000l80p&quot;, &quot;detail&quot;: &quot;https://earthquake.usgs.gov/earthquakes/feed/v1.0/detail/us7000l80p.geojson&quot;, &quot;dmin&quot;: 9.808, &quot;felt&quot;: null, &quot;gap&quot;: 130.0, &quot;id&quot;: &quot;us7000l80p&quot;, &quot;ids&quot;: &quot;,us7000l80p,&quot;, &quot;mag&quot;: 4.6, &quot;magType&quot;: &quot;mb&quot;, &quot;mmi&quot;: null, &quot;net&quot;: &quot;us&quot;, &quot;nst&quot;: 34.0, &quot;place&quot;: &quot;94 km ESE of Lata, Solomon Islands&quot;, &quot;rms&quot;: 0.51, &quot;sig&quot;: 326, &quot;sources&quot;: &quot;,us,&quot;, &quot;status&quot;: &quot;reviewed&quot;, &quot;time&quot;: 1698820178508, &quot;title&quot;: &quot;M 4.6 - 94 km ESE of Lata, Solomon Islands&quot;, &quot;tsunami&quot;: 0, &quot;type&quot;: &quot;earthquake&quot;, &quot;types&quot;: &quot;,origin,phase-data,&quot;, &quot;tz&quot;: null, &quot;updated&quot;: 1698821922040, &quot;url&quot;: &quot;https://earthquake.usgs.gov/earthquakes/eventpage/us7000l80p&quot;}, &quot;type&quot;: &quot;Feature&quot;}, {&quot;bbox&quot;: [-120.5803299, 36.0208321, -120.5803299, 36.0208321], &quot;geometry&quot;: {&quot;coordinates&quot;: [-120.5803299, 36.0208321, 4.25], &quot;type&quot;: &quot;Point&quot;}, &quot;id&quot;: &quot;4&quot;, &quot;properties&quot;: {&quot;alert&quot;: null, &quot;cdi&quot;: null, &quot;code&quot;: &quot;73954455&quot;, &quot;detail&quot;: &quot;https://earthquake.usgs.gov/earthquakes/feed/v1.0/detail/nc73954455.geojson&quot;, &quot;dmin&quot;: null, &quot;felt&quot;: null, &quot;gap&quot;: 43.0, &quot;id&quot;: &quot;nc73954455&quot;, &quot;ids&quot;: &quot;,nc73954455,&quot;, &quot;mag&quot;: 2.45, &quot;magType&quot;: &quot;md&quot;, &quot;mmi&quot;: null, &quot;net&quot;: &quot;nc&quot;, &quot;nst&quot;: 42.0, &quot;place&quot;: &quot;19 km NW of Parkfield, CA&quot;, &quot;rms&quot;: 0.06, &quot;sig&quot;: 92, &quot;sources&quot;: &quot;,nc,&quot;, &quot;status&quot;: &quot;automatic&quot;, &quot;time&quot;: 1698813050560, &quot;title&quot;: &quot;M 2.5 - 19 km NW of Parkfield, CA&quot;, &quot;tsunami&quot;: 0, &quot;type&quot;: &quot;earthquake&quot;, &quot;types&quot;: &quot;,focal-mechanism,nearby-cities,origin,phase-data,scitech-link,&quot;, &quot;tz&quot;: null, &quot;updated&quot;: 1698818773298, &quot;url&quot;: &quot;https://earthquake.usgs.gov/earthquakes/eventpage/nc73954455&quot;}, &quot;type&quot;: &quot;Feature&quot;}, {&quot;bbox&quot;: [-115.1032, 44.2319, -115.1032, 44.2319], &quot;geometry&quot;: {&quot;coordinates&quot;: [-115.1032, 44.2319, 5.0], &quot;type&quot;: &quot;Point&quot;}, &quot;id&quot;: &quot;5&quot;, &quot;properties&quot;: {&quot;alert&quot;: null, &quot;cdi&quot;: 3.1, &quot;code&quot;: &quot;7000l7zl&quot;, &quot;detail&quot;: &quot;https://earthquake.usgs.gov/earthquakes/feed/v1.0/detail/us7000l7zl.geojson&quot;, &quot;dmin&quot;: 0.223, &quot;felt&quot;: 4.0, &quot;gap&quot;: 69.0, &quot;id&quot;: &quot;us7000l7zl&quot;, &quot;ids&quot;: &quot;,us7000l7zl,&quot;, &quot;mag&quot;: 3.5, &quot;magType&quot;: &quot;ml&quot;, &quot;mmi&quot;: 3.641, &quot;net&quot;: &quot;us&quot;, &quot;nst&quot;: 8.0, &quot;place&quot;: &quot;13 km W of Stanley, Idaho&quot;, &quot;rms&quot;: 0.15, &quot;sig&quot;: 190, &quot;sources&quot;: &quot;,us,&quot;, &quot;status&quot;: &quot;reviewed&quot;, &quot;time&quot;: 1698806340658, &quot;title&quot;: &quot;M 3.5 - 13 km W of Stanley, Idaho&quot;, &quot;tsunami&quot;: 0, &quot;type&quot;: &quot;earthquake&quot;, &quot;types&quot;: &quot;,dyfi,origin,phase-data,shakemap,&quot;, &quot;tz&quot;: null, &quot;updated&quot;: 1698814105441, &quot;url&quot;: &quot;https://earthquake.usgs.gov/earthquakes/eventpage/us7000l7zl&quot;}, &quot;type&quot;: &quot;Feature&quot;}, {&quot;bbox&quot;: [-122.0455017, 37.9716682, -122.0455017, 37.9716682], &quot;geometry&quot;: {&quot;coordinates&quot;: [-122.0455017, 37.9716682, 16.55], &quot;type&quot;: &quot;Point&quot;}, &quot;id&quot;: &quot;6&quot;, &quot;properties&quot;: {&quot;alert&quot;: null, &quot;cdi&quot;: 4.1, &quot;code&quot;: &quot;73954420&quot;, &quot;detail&quot;: &quot;https://earthquake.usgs.gov/earthquakes/feed/v1.0/detail/nc73954420.geojson&quot;, &quot;dmin&quot;: null, &quot;felt&quot;: 23.0, &quot;gap&quot;: 49.0, &quot;id&quot;: &quot;nc73954420&quot;, &quot;ids&quot;: &quot;,nc73954420,&quot;, &quot;mag&quot;: 2.67, &quot;magType&quot;: &quot;md&quot;, &quot;mmi&quot;: null, &quot;net&quot;: &quot;nc&quot;, &quot;nst&quot;: 72.0, &quot;place&quot;: &quot;3 km W of Concord, CA&quot;, &quot;rms&quot;: 0.17, &quot;sig&quot;: 119, &quot;sources&quot;: &quot;,nc,&quot;, &quot;status&quot;: &quot;automatic&quot;, &quot;time&quot;: 1698801879490, &quot;title&quot;: &quot;M 2.7 - 3 km W of Concord, CA&quot;, &quot;tsunami&quot;: 0, &quot;type&quot;: &quot;earthquake&quot;, &quot;types&quot;: &quot;,dyfi,focal-mechanism,nearby-cities,origin,phase-data,scitech-link,&quot;, &quot;tz&quot;: null, &quot;updated&quot;: 1698825207347, &quot;url&quot;: &quot;https://earthquake.usgs.gov/earthquakes/eventpage/nc73954420&quot;}, &quot;type&quot;: &quot;Feature&quot;}, {&quot;bbox&quot;: [-150.6933, 60.9559, -150.6933, 60.9559], &quot;geometry&quot;: {&quot;coordinates&quot;: [-150.6933, 60.9559, 49.5], &quot;type&quot;: &quot;Point&quot;}, &quot;id&quot;: &quot;7&quot;, &quot;properties&quot;: {&quot;alert&quot;: null, &quot;cdi&quot;: 2.7, &quot;code&quot;: &quot;023dz59v16&quot;, &quot;detail&quot;: &quot;https://earthquake.usgs.gov/earthquakes/feed/v1.0/detail/ak023dz59v16.geojson&quot;, &quot;dmin&quot;: null, &quot;felt&quot;: 8.0, &quot;gap&quot;: null, &quot;id&quot;: &quot;ak023dz59v16&quot;, &quot;ids&quot;: &quot;,ak023dz59v16,us7000l7yp,&quot;, &quot;mag&quot;: 3.0, &quot;magType&quot;: &quot;ml&quot;, &quot;mmi&quot;: 1.0, &quot;net&quot;: &quot;ak&quot;, &quot;nst&quot;: null, &quot;place&quot;: &quot;3 km N of Point Possession, Alaska&quot;, &quot;rms&quot;: 0.45, &quot;sig&quot;: 141, &quot;sources&quot;: &quot;,ak,us,&quot;, &quot;status&quot;: &quot;reviewed&quot;, &quot;time&quot;: 1698795287858, &quot;title&quot;: &quot;M 3.0 - 3 km N of Point Possession, Alaska&quot;, &quot;tsunami&quot;: 0, &quot;type&quot;: &quot;earthquake&quot;, &quot;types&quot;: &quot;,dyfi,origin,phase-data,shakemap,&quot;, &quot;tz&quot;: null, &quot;updated&quot;: 1698810161027, &quot;url&quot;: &quot;https://earthquake.usgs.gov/earthquakes/eventpage/ak023dz59v16&quot;}, &quot;type&quot;: &quot;Feature&quot;}, {&quot;bbox&quot;: [-150.7076, 60.9355, -150.7076, 60.9355], &quot;geometry&quot;: {&quot;coordinates&quot;: [-150.7076, 60.9355, 42.9], &quot;type&quot;: &quot;Point&quot;}, &quot;id&quot;: &quot;8&quot;, &quot;properties&quot;: {&quot;alert&quot;: null, &quot;cdi&quot;: 1.0, &quot;code&quot;: &quot;023dz59mol&quot;, &quot;detail&quot;: &quot;https://earthquake.usgs.gov/earthquakes/feed/v1.0/detail/ak023dz59mol.geojson&quot;, &quot;dmin&quot;: null, &quot;felt&quot;: 0.0, &quot;gap&quot;: null, &quot;id&quot;: &quot;ak023dz59mol&quot;, &quot;ids&quot;: &quot;,ak023dz59mol,us7000l7yn,&quot;, &quot;mag&quot;: 2.7, &quot;magType&quot;: &quot;ml&quot;, &quot;mmi&quot;: null, &quot;net&quot;: &quot;ak&quot;, &quot;nst&quot;: null, &quot;place&quot;: &quot;Kenai Peninsula, Alaska&quot;, &quot;rms&quot;: 0.16, &quot;sig&quot;: 112, &quot;sources&quot;: &quot;,ak,us,&quot;, &quot;status&quot;: &quot;automatic&quot;, &quot;time&quot;: 1698795219097, &quot;title&quot;: &quot;M 2.7 - Kenai Peninsula, Alaska&quot;, &quot;tsunami&quot;: 0, &quot;type&quot;: &quot;earthquake&quot;, &quot;types&quot;: &quot;,dyfi,origin,phase-data,&quot;, &quot;tz&quot;: null, &quot;updated&quot;: 1698798493040, &quot;url&quot;: &quot;https://earthquake.usgs.gov/earthquakes/eventpage/ak023dz59mol&quot;}, &quot;type&quot;: &quot;Feature&quot;}, {&quot;bbox&quot;: [-150.6492, 60.954, -150.6492, 60.954], &quot;geometry&quot;: {&quot;coordinates&quot;: [-150.6492, 60.954, 44.5], &quot;type&quot;: &quot;Point&quot;}, &quot;id&quot;: &quot;9&quot;, &quot;properties&quot;: {&quot;alert&quot;: &quot;green&quot;, &quot;cdi&quot;: 3.4, &quot;code&quot;: &quot;023dz554ac&quot;, &quot;detail&quot;: &quot;https://earthquake.usgs.gov/earthquakes/feed/v1.0/detail/ak023dz554ac.geojson&quot;, &quot;dmin&quot;: null, &quot;felt&quot;: 183.0, &quot;gap&quot;: null, &quot;id&quot;: &quot;ak023dz554ac&quot;, &quot;ids&quot;: &quot;,ak023dz554ac,at00s3f1sz,us7000l7yj,&quot;, &quot;mag&quot;: 4.0, &quot;magType&quot;: &quot;ml&quot;, &quot;mmi&quot;: 2.792, &quot;net&quot;: &quot;ak&quot;, &quot;nst&quot;: null, &quot;place&quot;: &quot;Kenai Peninsula, Alaska&quot;, &quot;rms&quot;: 0.81, &quot;sig&quot;: 308, &quot;sources&quot;: &quot;,ak,at,us,&quot;, &quot;status&quot;: &quot;reviewed&quot;, &quot;time&quot;: 1698793955272, &quot;title&quot;: &quot;M 4.0 - Kenai Peninsula, Alaska&quot;, &quot;tsunami&quot;: 1, &quot;type&quot;: &quot;earthquake&quot;, &quot;types&quot;: &quot;,dyfi,impact-link,losspager,moment-tensor,origin,phase-data,shakemap,&quot;, &quot;tz&quot;: null, &quot;updated&quot;: 1698821919623, &quot;url&quot;: &quot;https://earthquake.usgs.gov/earthquakes/eventpage/ak023dz554ac&quot;}, &quot;type&quot;: &quot;Feature&quot;}, {&quot;bbox&quot;: [135.0538, 33.7846, 135.0538, 33.7846], &quot;geometry&quot;: {&quot;coordinates&quot;: [135.0538, 33.7846, 38.08], &quot;type&quot;: &quot;Point&quot;}, &quot;id&quot;: &quot;10&quot;, &quot;properties&quot;: {&quot;alert&quot;: null, &quot;cdi&quot;: 3.1, &quot;code&quot;: &quot;7000l7y5&quot;, &quot;detail&quot;: &quot;https://earthquake.usgs.gov/earthquakes/feed/v1.0/detail/us7000l7y5.geojson&quot;, &quot;dmin&quot;: 0.982, &quot;felt&quot;: 2.0, &quot;gap&quot;: 76.0, &quot;id&quot;: &quot;us7000l7y5&quot;, &quot;ids&quot;: &quot;,us7000l7y5,&quot;, &quot;mag&quot;: 4.8, &quot;magType&quot;: &quot;mww&quot;, &quot;mmi&quot;: null, &quot;net&quot;: &quot;us&quot;, &quot;nst&quot;: 134.0, &quot;place&quot;: &quot;near the south coast of western Honshu, Japan&quot;, &quot;rms&quot;: 0.6, &quot;sig&quot;: 355, &quot;sources&quot;: &quot;,us,&quot;, &quot;status&quot;: &quot;reviewed&quot;, &quot;time&quot;: 1698791641283, &quot;title&quot;: &quot;M 4.8 - near the south coast of western Honshu, Japan&quot;, &quot;tsunami&quot;: 0, &quot;type&quot;: &quot;earthquake&quot;, &quot;types&quot;: &quot;,dyfi,moment-tensor,origin,phase-data,&quot;, &quot;tz&quot;: null, &quot;updated&quot;: 1698812670187, &quot;url&quot;: &quot;https://earthquake.usgs.gov/earthquakes/eventpage/us7000l7y5&quot;}, &quot;type&quot;: &quot;Feature&quot;}, {&quot;bbox&quot;: [74.6427, 37.5141, 74.6427, 37.5141], &quot;geometry&quot;: {&quot;coordinates&quot;: [74.6427, 37.5141, 9.931], &quot;type&quot;: &quot;Point&quot;}, &quot;id&quot;: &quot;11&quot;, &quot;properties&quot;: {&quot;alert&quot;: null, &quot;cdi&quot;: null, &quot;code&quot;: &quot;7000l7ye&quot;, &quot;detail&quot;: &quot;https://earthquake.usgs.gov/earthquakes/feed/v1.0/detail/us7000l7ye.geojson&quot;, &quot;dmin&quot;: 2.97, &quot;felt&quot;: null, &quot;gap&quot;: 140.0, &quot;id&quot;: &quot;us7000l7ye&quot;, &quot;ids&quot;: &quot;,us7000l7ye,&quot;, &quot;mag&quot;: 4.3, &quot;magType&quot;: &quot;mb&quot;, &quot;mmi&quot;: null, &quot;net&quot;: &quot;us&quot;, &quot;nst&quot;: 17.0, &quot;place&quot;: &quot;94 km SE of Murghob, Tajikistan&quot;, &quot;rms&quot;: 0.48, &quot;sig&quot;: 284, &quot;sources&quot;: &quot;,us,&quot;, &quot;status&quot;: &quot;reviewed&quot;, &quot;time&quot;: 1698791177820, &quot;title&quot;: &quot;M 4.3 - 94 km SE of Murghob, Tajikistan&quot;, &quot;tsunami&quot;: 0, &quot;type&quot;: &quot;earthquake&quot;, &quot;types&quot;: &quot;,origin,phase-data,&quot;, &quot;tz&quot;: null, &quot;updated&quot;: 1698795858040, &quot;url&quot;: &quot;https://earthquake.usgs.gov/earthquakes/eventpage/us7000l7ye&quot;}, &quot;type&quot;: &quot;Feature&quot;}, {&quot;bbox&quot;: [-71.7726, -15.602, -71.7726, -15.602], &quot;geometry&quot;: {&quot;coordinates&quot;: [-71.7726, -15.602, 10.0], &quot;type&quot;: &quot;Point&quot;}, &quot;id&quot;: &quot;12&quot;, &quot;properties&quot;: {&quot;alert&quot;: null, &quot;cdi&quot;: null, &quot;code&quot;: &quot;7000l7xx&quot;, &quot;detail&quot;: &quot;https://earthquake.usgs.gov/earthquakes/feed/v1.0/detail/us7000l7xx.geojson&quot;, &quot;dmin&quot;: 2.956, &quot;felt&quot;: null, &quot;gap&quot;: 134.0, &quot;id&quot;: &quot;us7000l7xx&quot;, &quot;ids&quot;: &quot;,us7000l7xx,&quot;, &quot;mag&quot;: 4.6, &quot;magType&quot;: &quot;mb&quot;, &quot;mmi&quot;: null, &quot;net&quot;: &quot;us&quot;, &quot;nst&quot;: 35.0, &quot;place&quot;: &quot;southern Peru&quot;, &quot;rms&quot;: 0.95, &quot;sig&quot;: 326, &quot;sources&quot;: &quot;,us,&quot;, &quot;status&quot;: &quot;reviewed&quot;, &quot;time&quot;: 1698790429116, &quot;title&quot;: &quot;M 4.6 - southern Peru&quot;, &quot;tsunami&quot;: 0, &quot;type&quot;: &quot;earthquake&quot;, &quot;types&quot;: &quot;,origin,phase-data,&quot;, &quot;tz&quot;: null, &quot;updated&quot;: 1698792627040, &quot;url&quot;: &quot;https://earthquake.usgs.gov/earthquakes/eventpage/us7000l7xx&quot;}, &quot;type&quot;: &quot;Feature&quot;}, {&quot;bbox&quot;: [171.5358, -21.3207, 171.5358, -21.3207], &quot;geometry&quot;: {&quot;coordinates&quot;: [171.5358, -21.3207, 10.0], &quot;type&quot;: &quot;Point&quot;}, &quot;id&quot;: &quot;13&quot;, &quot;properties&quot;: {&quot;alert&quot;: null, &quot;cdi&quot;: null, &quot;code&quot;: &quot;7000l7xt&quot;, &quot;detail&quot;: &quot;https://earthquake.usgs.gov/earthquakes/feed/v1.0/detail/us7000l7xt.geojson&quot;, &quot;dmin&quot;: 4.008, &quot;felt&quot;: null, &quot;gap&quot;: 116.0, &quot;id&quot;: &quot;us7000l7xt&quot;, &quot;ids&quot;: &quot;,us7000l7xt,&quot;, &quot;mag&quot;: 5.1, &quot;magType&quot;: &quot;mww&quot;, &quot;mmi&quot;: null, &quot;net&quot;: &quot;us&quot;, &quot;nst&quot;: 20.0, &quot;place&quot;: &quot;southeast of the Loyalty Islands&quot;, &quot;rms&quot;: 1.15, &quot;sig&quot;: 400, &quot;sources&quot;: &quot;,us,&quot;, &quot;status&quot;: &quot;reviewed&quot;, &quot;time&quot;: 1698789883533, &quot;title&quot;: &quot;M 5.1 - southeast of the Loyalty Islands&quot;, &quot;tsunami&quot;: 0, &quot;type&quot;: &quot;earthquake&quot;, &quot;types&quot;: &quot;,origin,phase-data,&quot;, &quot;tz&quot;: null, &quot;updated&quot;: 1698790946040, &quot;url&quot;: &quot;https://earthquake.usgs.gov/earthquakes/eventpage/us7000l7xt&quot;}, &quot;type&quot;: &quot;Feature&quot;}, {&quot;bbox&quot;: [147.6886, 20.0619, 147.6886, 20.0619], &quot;geometry&quot;: {&quot;coordinates&quot;: [147.6886, 20.0619, 10.0], &quot;type&quot;: &quot;Point&quot;}, &quot;id&quot;: &quot;14&quot;, &quot;properties&quot;: {&quot;alert&quot;: null, &quot;cdi&quot;: null, &quot;code&quot;: &quot;7000l7x8&quot;, &quot;detail&quot;: &quot;https://earthquake.usgs.gov/earthquakes/feed/v1.0/detail/us7000l7x8.geojson&quot;, &quot;dmin&quot;: 6.98, &quot;felt&quot;: null, &quot;gap&quot;: 71.0, &quot;id&quot;: &quot;us7000l7x8&quot;, &quot;ids&quot;: &quot;,us7000l7x8,&quot;, &quot;mag&quot;: 4.9, &quot;magType&quot;: &quot;mb&quot;, &quot;mmi&quot;: null, &quot;net&quot;: &quot;us&quot;, &quot;nst&quot;: 165.0, &quot;place&quot;: &quot;Mariana Islands region&quot;, &quot;rms&quot;: 0.54, &quot;sig&quot;: 369, &quot;sources&quot;: &quot;,us,&quot;, &quot;status&quot;: &quot;reviewed&quot;, &quot;time&quot;: 1698783975230, &quot;title&quot;: &quot;M 4.9 - Mariana Islands region&quot;, &quot;tsunami&quot;: 0, &quot;type&quot;: &quot;earthquake&quot;, &quot;types&quot;: &quot;,origin,phase-data,&quot;, &quot;tz&quot;: null, &quot;updated&quot;: 1698786520040, &quot;url&quot;: &quot;https://earthquake.usgs.gov/earthquakes/eventpage/us7000l7x8&quot;}, &quot;type&quot;: &quot;Feature&quot;}, {&quot;bbox&quot;: [74.6922, 37.4135, 74.6922, 37.4135], &quot;geometry&quot;: {&quot;coordinates&quot;: [74.6922, 37.4135, 10.149], &quot;type&quot;: &quot;Point&quot;}, &quot;id&quot;: &quot;15&quot;, &quot;properties&quot;: {&quot;alert&quot;: null, &quot;cdi&quot;: null, &quot;code&quot;: &quot;7000l7ws&quot;, &quot;detail&quot;: &quot;https://earthquake.usgs.gov/earthquakes/feed/v1.0/detail/us7000l7ws.geojson&quot;, &quot;dmin&quot;: 3.067, &quot;felt&quot;: null, &quot;gap&quot;: 32.0, &quot;id&quot;: &quot;us7000l7ws&quot;, &quot;ids&quot;: &quot;,us7000l7ws,&quot;, &quot;mag&quot;: 4.4, &quot;magType&quot;: &quot;mb&quot;, &quot;mmi&quot;: null, &quot;net&quot;: &quot;us&quot;, &quot;nst&quot;: 80.0, &quot;place&quot;: &quot;105 km SE of Murghob, Tajikistan&quot;, &quot;rms&quot;: 1.1, &quot;sig&quot;: 298, &quot;sources&quot;: &quot;,us,&quot;, &quot;status&quot;: &quot;reviewed&quot;, &quot;time&quot;: 1698782172032, &quot;title&quot;: &quot;M 4.4 - 105 km SE of Murghob, Tajikistan&quot;, &quot;tsunami&quot;: 0, &quot;type&quot;: &quot;earthquake&quot;, &quot;types&quot;: &quot;,origin,phase-data,&quot;, &quot;tz&quot;: null, &quot;updated&quot;: 1698788543040, &quot;url&quot;: &quot;https://earthquake.usgs.gov/earthquakes/eventpage/us7000l7ws&quot;}, &quot;type&quot;: &quot;Feature&quot;}, {&quot;bbox&quot;: [74.7123, 37.4506, 74.7123, 37.4506], &quot;geometry&quot;: {&quot;coordinates&quot;: [74.7123, 37.4506, 12.37], &quot;type&quot;: &quot;Point&quot;}, &quot;id&quot;: &quot;16&quot;, &quot;properties&quot;: {&quot;alert&quot;: null, &quot;cdi&quot;: null, &quot;code&quot;: &quot;7000l7wr&quot;, &quot;detail&quot;: &quot;https://earthquake.usgs.gov/earthquakes/feed/v1.0/detail/us7000l7wr.geojson&quot;, &quot;dmin&quot;: 3.053, &quot;felt&quot;: null, &quot;gap&quot;: 85.0, &quot;id&quot;: &quot;us7000l7wr&quot;, &quot;ids&quot;: &quot;,us7000l7wr,&quot;, &quot;mag&quot;: 4.2, &quot;magType&quot;: &quot;mb&quot;, &quot;mmi&quot;: null, &quot;net&quot;: &quot;us&quot;, &quot;nst&quot;: 21.0, &quot;place&quot;: &quot;103 km SE of Murghob, Tajikistan&quot;, &quot;rms&quot;: 0.96, &quot;sig&quot;: 271, &quot;sources&quot;: &quot;,us,&quot;, &quot;status&quot;: &quot;reviewed&quot;, &quot;time&quot;: 1698782066794, &quot;title&quot;: &quot;M 4.2 - 103 km SE of Murghob, Tajikistan&quot;, &quot;tsunami&quot;: 0, &quot;type&quot;: &quot;earthquake&quot;, &quot;types&quot;: &quot;,origin,phase-data,&quot;, &quot;tz&quot;: null, &quot;updated&quot;: 1698785307040, &quot;url&quot;: &quot;https://earthquake.usgs.gov/earthquakes/eventpage/us7000l7wr&quot;}, &quot;type&quot;: &quot;Feature&quot;}, {&quot;bbox&quot;: [-119.3492, 38.5909, -119.3492, 38.5909], &quot;geometry&quot;: {&quot;coordinates&quot;: [-119.3492, 38.5909, 7.7], &quot;type&quot;: &quot;Point&quot;}, &quot;id&quot;: &quot;17&quot;, &quot;properties&quot;: {&quot;alert&quot;: null, &quot;cdi&quot;: null, &quot;code&quot;: &quot;00868214&quot;, &quot;detail&quot;: &quot;https://earthquake.usgs.gov/earthquakes/feed/v1.0/detail/nn00868214.geojson&quot;, &quot;dmin&quot;: 0.111, &quot;felt&quot;: null, &quot;gap&quot;: 51.38, &quot;id&quot;: &quot;nn00868214&quot;, &quot;ids&quot;: &quot;,us7000l7wh,nn00868214,&quot;, &quot;mag&quot;: 2.5, &quot;magType&quot;: &quot;ml&quot;, &quot;mmi&quot;: null, &quot;net&quot;: &quot;nn&quot;, &quot;nst&quot;: 24.0, &quot;place&quot;: &quot;13 km NE of Walker, California&quot;, &quot;rms&quot;: 0.1468, &quot;sig&quot;: 96, &quot;sources&quot;: &quot;,us,nn,&quot;, &quot;status&quot;: &quot;reviewed&quot;, &quot;time&quot;: 1698779058563, &quot;title&quot;: &quot;M 2.5 - 13 km NE of Walker, California&quot;, &quot;tsunami&quot;: 0, &quot;type&quot;: &quot;earthquake&quot;, &quot;types&quot;: &quot;,origin,phase-data,&quot;, &quot;tz&quot;: null, &quot;updated&quot;: 1698784635040, &quot;url&quot;: &quot;https://earthquake.usgs.gov/earthquakes/eventpage/nn00868214&quot;}, &quot;type&quot;: &quot;Feature&quot;}, {&quot;bbox&quot;: [-67.5668, 19.1998, -67.5668, 19.1998], &quot;geometry&quot;: {&quot;coordinates&quot;: [-67.5668, 19.1998, 55.0], &quot;type&quot;: &quot;Point&quot;}, &quot;id&quot;: &quot;18&quot;, &quot;properties&quot;: {&quot;alert&quot;: null, &quot;cdi&quot;: null, &quot;code&quot;: &quot;2023304000&quot;, &quot;detail&quot;: &quot;https://earthquake.usgs.gov/earthquakes/feed/v1.0/detail/pr2023304000.geojson&quot;, &quot;dmin&quot;: 0.82, &quot;felt&quot;: null, &quot;gap&quot;: 308.0, &quot;id&quot;: &quot;pr2023304000&quot;, &quot;ids&quot;: &quot;,us7000l7w7,pr2023304000,&quot;, &quot;mag&quot;: 3.66, &quot;magType&quot;: &quot;md&quot;, &quot;mmi&quot;: null, &quot;net&quot;: &quot;pr&quot;, &quot;nst&quot;: 11.0, &quot;place&quot;: &quot;92 km NNW of San Antonio, Puerto Rico&quot;, &quot;rms&quot;: 0.45, &quot;sig&quot;: 206, &quot;sources&quot;: &quot;,us,pr,&quot;, &quot;status&quot;: &quot;reviewed&quot;, &quot;time&quot;: 1698774456400, &quot;title&quot;: &quot;M 3.7 - 92 km NNW of San Antonio, Puerto Rico&quot;, &quot;tsunami&quot;: 0, &quot;type&quot;: &quot;earthquake&quot;, &quot;types&quot;: &quot;,origin,phase-data,&quot;, &quot;tz&quot;: null, &quot;updated&quot;: 1698777944040, &quot;url&quot;: &quot;https://earthquake.usgs.gov/earthquakes/eventpage/pr2023304000&quot;}, &quot;type&quot;: &quot;Feature&quot;}, {&quot;bbox&quot;: [146.4747, -5.808, 146.4747, -5.808], &quot;geometry&quot;: {&quot;coordinates&quot;: [146.4747, -5.808, 66.946], &quot;type&quot;: &quot;Point&quot;}, &quot;id&quot;: &quot;19&quot;, &quot;properties&quot;: {&quot;alert&quot;: null, &quot;cdi&quot;: 4.3, &quot;code&quot;: &quot;7000l7w6&quot;, &quot;detail&quot;: &quot;https://earthquake.usgs.gov/earthquakes/feed/v1.0/detail/us7000l7w6.geojson&quot;, &quot;dmin&quot;: 5.891, &quot;felt&quot;: 3.0, &quot;gap&quot;: 39.0, &quot;id&quot;: &quot;us7000l7w6&quot;, &quot;ids&quot;: &quot;,us7000l7w6,&quot;, &quot;mag&quot;: 5.2, &quot;magType&quot;: &quot;mb&quot;, &quot;mmi&quot;: null, &quot;net&quot;: &quot;us&quot;, &quot;nst&quot;: 91.0, &quot;place&quot;: &quot;85 km NE of Kainantu, Papua New Guinea&quot;, &quot;rms&quot;: 0.87, &quot;sig&quot;: 417, &quot;sources&quot;: &quot;,us,&quot;, &quot;status&quot;: &quot;reviewed&quot;, &quot;time&quot;: 1698774094516, &quot;title&quot;: &quot;M 5.2 - 85 km NE of Kainantu, Papua New Guinea&quot;, &quot;tsunami&quot;: 0, &quot;type&quot;: &quot;earthquake&quot;, &quot;types&quot;: &quot;,dyfi,origin,phase-data,&quot;, &quot;tz&quot;: null, &quot;updated&quot;: 1698786457409, &quot;url&quot;: &quot;https://earthquake.usgs.gov/earthquakes/eventpage/us7000l7w6&quot;}, &quot;type&quot;: &quot;Feature&quot;}, {&quot;bbox&quot;: [123.7807, -0.0939, 123.7807, -0.0939], &quot;geometry&quot;: {&quot;coordinates&quot;: [123.7807, -0.0939, 126.426], &quot;type&quot;: &quot;Point&quot;}, &quot;id&quot;: &quot;20&quot;, &quot;properties&quot;: {&quot;alert&quot;: null, &quot;cdi&quot;: null, &quot;code&quot;: &quot;7000l7w4&quot;, &quot;detail&quot;: &quot;https://earthquake.usgs.gov/earthquakes/feed/v1.0/detail/us7000l7w4.geojson&quot;, &quot;dmin&quot;: 1.38, &quot;felt&quot;: null, &quot;gap&quot;: 41.0, &quot;id&quot;: &quot;us7000l7w4&quot;, &quot;ids&quot;: &quot;,us7000l7w4,&quot;, &quot;mag&quot;: 5.0, &quot;magType&quot;: &quot;mb&quot;, &quot;mmi&quot;: null, &quot;net&quot;: &quot;us&quot;, &quot;nst&quot;: 104.0, &quot;place&quot;: &quot;94 km SW of Modisi, Indonesia&quot;, &quot;rms&quot;: 1.22, &quot;sig&quot;: 385, &quot;sources&quot;: &quot;,us,&quot;, &quot;status&quot;: &quot;reviewed&quot;, &quot;time&quot;: 1698773841329, &quot;title&quot;: &quot;M 5.0 - 94 km SW of Modisi, Indonesia&quot;, &quot;tsunami&quot;: 0, &quot;type&quot;: &quot;earthquake&quot;, &quot;types&quot;: &quot;,origin,phase-data,&quot;, &quot;tz&quot;: null, &quot;updated&quot;: 1698774989040, &quot;url&quot;: &quot;https://earthquake.usgs.gov/earthquakes/eventpage/us7000l7w4&quot;}, &quot;type&quot;: &quot;Feature&quot;}, {&quot;bbox&quot;: [-121.65766666666667, 45.30316666666667, -121.65766666666667, 45.30316666666667], &quot;geometry&quot;: {&quot;coordinates&quot;: [-121.65766666666667, 45.30316666666667, 5.65], &quot;type&quot;: &quot;Point&quot;}, &quot;id&quot;: &quot;21&quot;, &quot;properties&quot;: {&quot;alert&quot;: null, &quot;cdi&quot;: null, &quot;code&quot;: &quot;61960642&quot;, &quot;detail&quot;: &quot;https://earthquake.usgs.gov/earthquakes/feed/v1.0/detail/uw61960642.geojson&quot;, &quot;dmin&quot;: 0.01968, &quot;felt&quot;: null, &quot;gap&quot;: 157.0, &quot;id&quot;: &quot;uw61960642&quot;, &quot;ids&quot;: &quot;,uw61960642,&quot;, &quot;mag&quot;: 2.48, &quot;magType&quot;: &quot;ml&quot;, &quot;mmi&quot;: null, &quot;net&quot;: &quot;uw&quot;, &quot;nst&quot;: 14.0, &quot;place&quot;: &quot;7 km NE of Wapanitia, Oregon&quot;, &quot;rms&quot;: 0.13, &quot;sig&quot;: 95, &quot;sources&quot;: &quot;,uw,&quot;, &quot;status&quot;: &quot;reviewed&quot;, &quot;time&quot;: 1698770099430, &quot;title&quot;: &quot;M 2.5 - 7 km NE of Wapanitia, Oregon&quot;, &quot;tsunami&quot;: 0, &quot;type&quot;: &quot;earthquake&quot;, &quot;types&quot;: &quot;,origin,phase-data,&quot;, &quot;tz&quot;: null, &quot;updated&quot;: 1698785480240, &quot;url&quot;: &quot;https://earthquake.usgs.gov/earthquakes/eventpage/uw61960642&quot;}, &quot;type&quot;: &quot;Feature&quot;}, {&quot;bbox&quot;: [178.9955, 50.1795, 178.9955, 50.1795], &quot;geometry&quot;: {&quot;coordinates&quot;: [178.9955, 50.1795, 31.6], &quot;type&quot;: &quot;Point&quot;}, &quot;id&quot;: &quot;22&quot;, &quot;properties&quot;: {&quot;alert&quot;: null, &quot;cdi&quot;: null, &quot;code&quot;: &quot;023dz12x4p&quot;, &quot;detail&quot;: &quot;https://earthquake.usgs.gov/earthquakes/feed/v1.0/detail/ak023dz12x4p.geojson&quot;, &quot;dmin&quot;: null, &quot;felt&quot;: null, &quot;gap&quot;: null, &quot;id&quot;: &quot;ak023dz12x4p&quot;, &quot;ids&quot;: &quot;,ak023dz12x4p,&quot;, &quot;mag&quot;: 2.7, &quot;magType&quot;: &quot;ml&quot;, &quot;mmi&quot;: null, &quot;net&quot;: &quot;ak&quot;, &quot;nst&quot;: null, &quot;place&quot;: &quot;Rat Islands, Aleutian Islands, Alaska&quot;, &quot;rms&quot;: 0.64, &quot;sig&quot;: 112, &quot;sources&quot;: &quot;,ak,&quot;, &quot;status&quot;: &quot;reviewed&quot;, &quot;time&quot;: 1698769808587, &quot;title&quot;: &quot;M 2.7 - Rat Islands, Aleutian Islands, Alaska&quot;, &quot;tsunami&quot;: 0, &quot;type&quot;: &quot;earthquake&quot;, &quot;types&quot;: &quot;,origin,phase-data,&quot;, &quot;tz&quot;: null, &quot;updated&quot;: 1698771582858, &quot;url&quot;: &quot;https://earthquake.usgs.gov/earthquakes/eventpage/ak023dz12x4p&quot;}, &quot;type&quot;: &quot;Feature&quot;}, {&quot;bbox&quot;: [-103.993, 31.625, -103.993, 31.625], &quot;geometry&quot;: {&quot;coordinates&quot;: [-103.993, 31.625, 9.8849], &quot;type&quot;: &quot;Point&quot;}, &quot;id&quot;: &quot;23&quot;, &quot;properties&quot;: {&quot;alert&quot;: null, &quot;cdi&quot;: null, &quot;code&quot;: &quot;2023viuv&quot;, &quot;detail&quot;: &quot;https://earthquake.usgs.gov/earthquakes/feed/v1.0/detail/tx2023viuv.geojson&quot;, &quot;dmin&quot;: 0.0, &quot;felt&quot;: null, &quot;gap&quot;: 54.0, &quot;id&quot;: &quot;tx2023viuv&quot;, &quot;ids&quot;: &quot;,tx2023viuv,&quot;, &quot;mag&quot;: 2.6, &quot;magType&quot;: &quot;ml(texnet)&quot;, &quot;mmi&quot;: null, &quot;net&quot;: &quot;tx&quot;, &quot;nst&quot;: 22.0, &quot;place&quot;: &quot;38 km WSW of Mentone, Texas&quot;, &quot;rms&quot;: 0.1, &quot;sig&quot;: 104, &quot;sources&quot;: &quot;,tx,&quot;, &quot;status&quot;: &quot;reviewed&quot;, &quot;time&quot;: 1698767496650, &quot;title&quot;: &quot;M 2.6 - 38 km WSW of Mentone, Texas&quot;, &quot;tsunami&quot;: 0, &quot;type&quot;: &quot;earthquake&quot;, &quot;types&quot;: &quot;,origin,phase-data,&quot;, &quot;tz&quot;: null, &quot;updated&quot;: 1698775526744, &quot;url&quot;: &quot;https://earthquake.usgs.gov/earthquakes/eventpage/tx2023viuv&quot;}, &quot;type&quot;: &quot;Feature&quot;}, {&quot;bbox&quot;: [32.0665, 4.8022, 32.0665, 4.8022], &quot;geometry&quot;: {&quot;coordinates&quot;: [32.0665, 4.8022, 10.0], &quot;type&quot;: &quot;Point&quot;}, &quot;id&quot;: &quot;24&quot;, &quot;properties&quot;: {&quot;alert&quot;: null, &quot;cdi&quot;: 3.4, &quot;code&quot;: &quot;7000l7uj&quot;, &quot;detail&quot;: &quot;https://earthquake.usgs.gov/earthquakes/feed/v1.0/detail/us7000l7uj.geojson&quot;, &quot;dmin&quot;: 5.53, &quot;felt&quot;: 1.0, &quot;gap&quot;: 66.0, &quot;id&quot;: &quot;us7000l7uj&quot;, &quot;ids&quot;: &quot;,us7000l7uj,&quot;, &quot;mag&quot;: 4.8, &quot;magType&quot;: &quot;mb&quot;, &quot;mmi&quot;: null, &quot;net&quot;: &quot;us&quot;, &quot;nst&quot;: 38.0, &quot;place&quot;: &quot;53 km E of Juba, South Sudan&quot;, &quot;rms&quot;: 0.8, &quot;sig&quot;: 355, &quot;sources&quot;: &quot;,us,&quot;, &quot;status&quot;: &quot;reviewed&quot;, &quot;time&quot;: 1698766550018, &quot;title&quot;: &quot;M 4.8 - 53 km E of Juba, South Sudan&quot;, &quot;tsunami&quot;: 0, &quot;type&quot;: &quot;earthquake&quot;, &quot;types&quot;: &quot;,dyfi,origin,phase-data,&quot;, &quot;tz&quot;: null, &quot;updated&quot;: 1698786870863, &quot;url&quot;: &quot;https://earthquake.usgs.gov/earthquakes/eventpage/us7000l7uj&quot;}, &quot;type&quot;: &quot;Feature&quot;}, {&quot;bbox&quot;: [-71.5702, -28.7471, -71.5702, -28.7471], &quot;geometry&quot;: {&quot;coordinates&quot;: [-71.5702, -28.7471, 35.0], &quot;type&quot;: &quot;Point&quot;}, &quot;id&quot;: &quot;25&quot;, &quot;properties&quot;: {&quot;alert&quot;: &quot;green&quot;, &quot;cdi&quot;: 6.9, &quot;code&quot;: &quot;7000l7si&quot;, &quot;detail&quot;: &quot;https://earthquake.usgs.gov/earthquakes/feed/v1.0/detail/us7000l7si.geojson&quot;, &quot;dmin&quot;: 0.695, &quot;felt&quot;: 62.0, &quot;gap&quot;: 66.0, &quot;id&quot;: &quot;us7000l7si&quot;, &quot;ids&quot;: &quot;,at00s3e886,pt23304001,us7000l7si,&quot;, &quot;mag&quot;: 6.6, &quot;magType&quot;: &quot;mww&quot;, &quot;mmi&quot;: 6.588, &quot;net&quot;: &quot;us&quot;, &quot;nst&quot;: 128.0, &quot;place&quot;: &quot;81 km WSW of Vallenar, Chile&quot;, &quot;rms&quot;: 1.03, &quot;sig&quot;: 713, &quot;sources&quot;: &quot;,at,pt,us,&quot;, &quot;status&quot;: &quot;reviewed&quot;, &quot;time&quot;: 1698755623935, &quot;title&quot;: &quot;M 6.6 - 81 km WSW of Vallenar, Chile&quot;, &quot;tsunami&quot;: 1, &quot;type&quot;: &quot;earthquake&quot;, &quot;types&quot;: &quot;,dyfi,ground-failure,impact-link,losspager,moment-tensor,origin,phase-data,shakemap,&quot;, &quot;tz&quot;: null, &quot;updated&quot;: 1698801869387, &quot;url&quot;: &quot;https://earthquake.usgs.gov/earthquakes/eventpage/us7000l7si&quot;}, &quot;type&quot;: &quot;Feature&quot;}, {&quot;bbox&quot;: [-156.6134, 67.2794, -156.6134, 67.2794], &quot;geometry&quot;: {&quot;coordinates&quot;: [-156.6134, 67.2794, 0.1], &quot;type&quot;: &quot;Point&quot;}, &quot;id&quot;: &quot;26&quot;, &quot;properties&quot;: {&quot;alert&quot;: null, &quot;cdi&quot;: null, &quot;code&quot;: &quot;023dyyodun&quot;, &quot;detail&quot;: &quot;https://earthquake.usgs.gov/earthquakes/feed/v1.0/detail/ak023dyyodun.geojson&quot;, &quot;dmin&quot;: null, &quot;felt&quot;: null, &quot;gap&quot;: null, &quot;id&quot;: &quot;ak023dyyodun&quot;, &quot;ids&quot;: &quot;,ak023dyyodun,&quot;, &quot;mag&quot;: 2.7, &quot;magType&quot;: &quot;ml&quot;, &quot;mmi&quot;: null, &quot;net&quot;: &quot;ak&quot;, &quot;nst&quot;: null, &quot;place&quot;: &quot;43 km NNE of Kobuk, Alaska&quot;, &quot;rms&quot;: 0.86, &quot;sig&quot;: 112, &quot;sources&quot;: &quot;,ak,&quot;, &quot;status&quot;: &quot;automatic&quot;, &quot;time&quot;: 1698755209914, &quot;title&quot;: &quot;M 2.7 - 43 km NNE of Kobuk, Alaska&quot;, &quot;tsunami&quot;: 0, &quot;type&quot;: &quot;earthquake&quot;, &quot;types&quot;: &quot;,origin,phase-data,&quot;, &quot;tz&quot;: null, &quot;updated&quot;: 1698755846143, &quot;url&quot;: &quot;https://earthquake.usgs.gov/earthquakes/eventpage/ak023dyyodun&quot;}, &quot;type&quot;: &quot;Feature&quot;}, {&quot;bbox&quot;: [-63.2874, -27.1784, -63.2874, -27.1784], &quot;geometry&quot;: {&quot;coordinates&quot;: [-63.2874, -27.1784, 550.615], &quot;type&quot;: &quot;Point&quot;}, &quot;id&quot;: &quot;27&quot;, &quot;properties&quot;: {&quot;alert&quot;: null, &quot;cdi&quot;: null, &quot;code&quot;: &quot;7000l7se&quot;, &quot;detail&quot;: &quot;https://earthquake.usgs.gov/earthquakes/feed/v1.0/detail/us7000l7se.geojson&quot;, &quot;dmin&quot;: 5.239, &quot;felt&quot;: null, &quot;gap&quot;: 45.0, &quot;id&quot;: &quot;us7000l7se&quot;, &quot;ids&quot;: &quot;,us7000l7se,&quot;, &quot;mag&quot;: 4.8, &quot;magType&quot;: &quot;mb&quot;, &quot;mmi&quot;: null, &quot;net&quot;: &quot;us&quot;, &quot;nst&quot;: 70.0, &quot;place&quot;: &quot;17 km SSW of El Hoyo, Argentina&quot;, &quot;rms&quot;: 0.81, &quot;sig&quot;: 354, &quot;sources&quot;: &quot;,us,&quot;, &quot;status&quot;: &quot;reviewed&quot;, &quot;time&quot;: 1698754818462, &quot;title&quot;: &quot;M 4.8 - 17 km SSW of El Hoyo, Argentina&quot;, &quot;tsunami&quot;: 0, &quot;type&quot;: &quot;earthquake&quot;, &quot;types&quot;: &quot;,origin,phase-data,&quot;, &quot;tz&quot;: null, &quot;updated&quot;: 1698755745040, &quot;url&quot;: &quot;https://earthquake.usgs.gov/earthquakes/eventpage/us7000l7se&quot;}, &quot;type&quot;: &quot;Feature&quot;}, {&quot;bbox&quot;: [-103.836, 32.008, -103.836, 32.008], &quot;geometry&quot;: {&quot;coordinates&quot;: [-103.836, 32.008, 6.9028], &quot;type&quot;: &quot;Point&quot;}, &quot;id&quot;: &quot;28&quot;, &quot;properties&quot;: {&quot;alert&quot;: null, &quot;cdi&quot;: null, &quot;code&quot;: &quot;2023vilr&quot;, &quot;detail&quot;: &quot;https://earthquake.usgs.gov/earthquakes/feed/v1.0/detail/tx2023vilr.geojson&quot;, &quot;dmin&quot;: 0.0, &quot;felt&quot;: null, &quot;gap&quot;: 69.0, &quot;id&quot;: &quot;tx2023vilr&quot;, &quot;ids&quot;: &quot;,us7000l7qv,tx2023vilr,&quot;, &quot;mag&quot;: 2.5, &quot;magType&quot;: &quot;ml(texnet)&quot;, &quot;mmi&quot;: null, &quot;net&quot;: &quot;tx&quot;, &quot;nst&quot;: 17.0, &quot;place&quot;: &quot;New Mexico&quot;, &quot;rms&quot;: 0.1, &quot;sig&quot;: 96, &quot;sources&quot;: &quot;,us,tx,&quot;, &quot;status&quot;: &quot;reviewed&quot;, &quot;time&quot;: 1698750777892, &quot;title&quot;: &quot;M 2.5 - New Mexico&quot;, &quot;tsunami&quot;: 0, &quot;type&quot;: &quot;earthquake&quot;, &quot;types&quot;: &quot;,origin,phase-data,&quot;, &quot;tz&quot;: null, &quot;updated&quot;: 1698817906040, &quot;url&quot;: &quot;https://earthquake.usgs.gov/earthquakes/eventpage/tx2023vilr&quot;}, &quot;type&quot;: &quot;Feature&quot;}, {&quot;bbox&quot;: [-179.0072, -17.5191, -179.0072, -17.5191], &quot;geometry&quot;: {&quot;coordinates&quot;: [-179.0072, -17.5191, 549.788], &quot;type&quot;: &quot;Point&quot;}, &quot;id&quot;: &quot;29&quot;, &quot;properties&quot;: {&quot;alert&quot;: &quot;green&quot;, &quot;cdi&quot;: 1.0, &quot;code&quot;: &quot;7000l7qy&quot;, &quot;detail&quot;: &quot;https://earthquake.usgs.gov/earthquakes/feed/v1.0/detail/us7000l7qy.geojson&quot;, &quot;dmin&quot;: 2.813, &quot;felt&quot;: 1.0, &quot;gap&quot;: 27.0, &quot;id&quot;: &quot;us7000l7qy&quot;, &quot;ids&quot;: &quot;,us7000l7qy,&quot;, &quot;mag&quot;: 6.5, &quot;magType&quot;: &quot;mww&quot;, &quot;mmi&quot;: 2.667, &quot;net&quot;: &quot;us&quot;, &quot;nst&quot;: 110.0, &quot;place&quot;: &quot;187 km ENE of Levuka, Fiji&quot;, &quot;rms&quot;: 0.71, &quot;sig&quot;: 650, &quot;sources&quot;: &quot;,us,&quot;, &quot;status&quot;: &quot;reviewed&quot;, &quot;time&quot;: 1698750656143, &quot;title&quot;: &quot;M 6.5 - 187 km ENE of Levuka, Fiji&quot;, &quot;tsunami&quot;: 0, &quot;type&quot;: &quot;earthquake&quot;, &quot;types&quot;: &quot;,dyfi,ground-failure,losspager,moment-tensor,origin,phase-data,shakemap,&quot;, &quot;tz&quot;: null, &quot;updated&quot;: 1698783148937, &quot;url&quot;: &quot;https://earthquake.usgs.gov/earthquakes/eventpage/us7000l7qy&quot;}, &quot;type&quot;: &quot;Feature&quot;}, {&quot;bbox&quot;: [176.8999, 51.8962, 176.8999, 51.8962], &quot;geometry&quot;: {&quot;coordinates&quot;: [176.8999, 51.8962, 89.0], &quot;type&quot;: &quot;Point&quot;}, &quot;id&quot;: &quot;30&quot;, &quot;properties&quot;: {&quot;alert&quot;: null, &quot;cdi&quot;: null, &quot;code&quot;: &quot;023dyxz8ce&quot;, &quot;detail&quot;: &quot;https://earthquake.usgs.gov/earthquakes/feed/v1.0/detail/ak023dyxz8ce.geojson&quot;, &quot;dmin&quot;: null, &quot;felt&quot;: null, &quot;gap&quot;: null, &quot;id&quot;: &quot;ak023dyxz8ce&quot;, &quot;ids&quot;: &quot;,ak023dyxz8ce,&quot;, &quot;mag&quot;: 3.1, &quot;magType&quot;: &quot;ml&quot;, &quot;mmi&quot;: null, &quot;net&quot;: &quot;ak&quot;, &quot;nst&quot;: null, &quot;place&quot;: &quot;274 km ESE of Attu Station, Alaska&quot;, &quot;rms&quot;: 0.59, &quot;sig&quot;: 148, &quot;sources&quot;: &quot;,ak,&quot;, &quot;status&quot;: &quot;reviewed&quot;, &quot;time&quot;: 1698750543388, &quot;title&quot;: &quot;M 3.1 - 274 km ESE of Attu Station, Alaska&quot;, &quot;tsunami&quot;: 0, &quot;type&quot;: &quot;earthquake&quot;, &quot;types&quot;: &quot;,origin,phase-data,&quot;, &quot;tz&quot;: null, &quot;updated&quot;: 1698771174477, &quot;url&quot;: &quot;https://earthquake.usgs.gov/earthquakes/eventpage/ak023dyxz8ce&quot;}, &quot;type&quot;: &quot;Feature&quot;}, {&quot;bbox&quot;: [-168.3183, 56.4815, -168.3183, 56.4815], &quot;geometry&quot;: {&quot;coordinates&quot;: [-168.3183, 56.4815, 5.5], &quot;type&quot;: &quot;Point&quot;}, &quot;id&quot;: &quot;31&quot;, &quot;properties&quot;: {&quot;alert&quot;: null, &quot;cdi&quot;: null, &quot;code&quot;: &quot;023dyxf2nl&quot;, &quot;detail&quot;: &quot;https://earthquake.usgs.gov/earthquakes/feed/v1.0/detail/ak023dyxf2nl.geojson&quot;, &quot;dmin&quot;: null, &quot;felt&quot;: null, &quot;gap&quot;: null, &quot;id&quot;: &quot;ak023dyxf2nl&quot;, &quot;ids&quot;: &quot;,ak023dyxf2nl,&quot;, &quot;mag&quot;: 3.6, &quot;magType&quot;: &quot;ml&quot;, &quot;mmi&quot;: 1.0, &quot;net&quot;: &quot;ak&quot;, &quot;nst&quot;: null, &quot;place&quot;: &quot;76 km E of Saint George, Alaska&quot;, &quot;rms&quot;: 0.59, &quot;sig&quot;: 199, &quot;sources&quot;: &quot;,ak,&quot;, &quot;status&quot;: &quot;reviewed&quot;, &quot;time&quot;: 1698747304956, &quot;title&quot;: &quot;M 3.6 - 76 km E of Saint George, Alaska&quot;, &quot;tsunami&quot;: 0, &quot;type&quot;: &quot;earthquake&quot;, &quot;types&quot;: &quot;,origin,phase-data,shakemap,&quot;, &quot;tz&quot;: null, &quot;updated&quot;: 1698771186519, &quot;url&quot;: &quot;https://earthquake.usgs.gov/earthquakes/eventpage/ak023dyxf2nl&quot;}, &quot;type&quot;: &quot;Feature&quot;}, {&quot;bbox&quot;: [-76.3624, 4.5039, -76.3624, 4.5039], &quot;geometry&quot;: {&quot;coordinates&quot;: [-76.3624, 4.5039, 136.694], &quot;type&quot;: &quot;Point&quot;}, &quot;id&quot;: &quot;32&quot;, &quot;properties&quot;: {&quot;alert&quot;: null, &quot;cdi&quot;: null, &quot;code&quot;: &quot;7000l7qm&quot;, &quot;detail&quot;: &quot;https://earthquake.usgs.gov/earthquakes/feed/v1.0/detail/us7000l7qm.geojson&quot;, &quot;dmin&quot;: 1.87, &quot;felt&quot;: null, &quot;gap&quot;: 98.0, &quot;id&quot;: &quot;us7000l7qm&quot;, &quot;ids&quot;: &quot;,us7000l7qm,&quot;, &quot;mag&quot;: 4.3, &quot;magType&quot;: &quot;mb&quot;, &quot;mmi&quot;: null, &quot;net&quot;: &quot;us&quot;, &quot;nst&quot;: 31.0, &quot;place&quot;: &quot;14 km W of El Dovio, Colombia&quot;, &quot;rms&quot;: 0.87, &quot;sig&quot;: 284, &quot;sources&quot;: &quot;,us,&quot;, &quot;status&quot;: &quot;reviewed&quot;, &quot;time&quot;: 1698745922332, &quot;title&quot;: &quot;M 4.3 - 14 km W of El Dovio, Colombia&quot;, &quot;tsunami&quot;: 0, &quot;type&quot;: &quot;earthquake&quot;, &quot;types&quot;: &quot;,origin,phase-data,&quot;, &quot;tz&quot;: null, &quot;updated&quot;: 1698748935040, &quot;url&quot;: &quot;https://earthquake.usgs.gov/earthquakes/eventpage/us7000l7qm&quot;}, &quot;type&quot;: &quot;Feature&quot;}, {&quot;bbox&quot;: [74.9141, 37.7747, 74.9141, 37.7747], &quot;geometry&quot;: {&quot;coordinates&quot;: [74.9141, 37.7747, 10.0], &quot;type&quot;: &quot;Point&quot;}, &quot;id&quot;: &quot;33&quot;, &quot;properties&quot;: {&quot;alert&quot;: null, &quot;cdi&quot;: null, &quot;code&quot;: &quot;7000l7qj&quot;, &quot;detail&quot;: &quot;https://earthquake.usgs.gov/earthquakes/feed/v1.0/detail/us7000l7qj.geojson&quot;, &quot;dmin&quot;: 2.973, &quot;felt&quot;: null, &quot;gap&quot;: 59.0, &quot;id&quot;: &quot;us7000l7qj&quot;, &quot;ids&quot;: &quot;,us7000l7qj,&quot;, &quot;mag&quot;: 4.9, &quot;magType&quot;: &quot;mb&quot;, &quot;mmi&quot;: null, &quot;net&quot;: &quot;us&quot;, &quot;nst&quot;: 66.0, &quot;place&quot;: &quot;94 km ESE of Murghob, Tajikistan&quot;, &quot;rms&quot;: 0.73, &quot;sig&quot;: 369, &quot;sources&quot;: &quot;,us,&quot;, &quot;status&quot;: &quot;reviewed&quot;, &quot;time&quot;: 1698743948661, &quot;title&quot;: &quot;M 4.9 - 94 km ESE of Murghob, Tajikistan&quot;, &quot;tsunami&quot;: 0, &quot;type&quot;: &quot;earthquake&quot;, &quot;types&quot;: &quot;,origin,phase-data,&quot;, &quot;tz&quot;: null, &quot;updated&quot;: 1698745783040, &quot;url&quot;: &quot;https://earthquake.usgs.gov/earthquakes/eventpage/us7000l7qj&quot;}, &quot;type&quot;: &quot;Feature&quot;}, {&quot;bbox&quot;: [59.7592, 32.0542, 59.7592, 32.0542], &quot;geometry&quot;: {&quot;coordinates&quot;: [59.7592, 32.0542, 10.0], &quot;type&quot;: &quot;Point&quot;}, &quot;id&quot;: &quot;34&quot;, &quot;properties&quot;: {&quot;alert&quot;: null, &quot;cdi&quot;: null, &quot;code&quot;: &quot;7000l7qg&quot;, &quot;detail&quot;: &quot;https://earthquake.usgs.gov/earthquakes/feed/v1.0/detail/us7000l7qg.geojson&quot;, &quot;dmin&quot;: 8.158, &quot;felt&quot;: null, &quot;gap&quot;: 77.0, &quot;id&quot;: &quot;us7000l7qg&quot;, &quot;ids&quot;: &quot;,us7000l7qg,&quot;, &quot;mag&quot;: 5.0, &quot;magType&quot;: &quot;mb&quot;, &quot;mmi&quot;: null, &quot;net&quot;: &quot;us&quot;, &quot;nst&quot;: 115.0, &quot;place&quot;: &quot;103 km SSE of B\\u012brjand, Iran&quot;, &quot;rms&quot;: 0.78, &quot;sig&quot;: 385, &quot;sources&quot;: &quot;,us,&quot;, &quot;status&quot;: &quot;reviewed&quot;, &quot;time&quot;: 1698743621976, &quot;title&quot;: &quot;M 5.0 - 103 km SSE of B\\u012brjand, Iran&quot;, &quot;tsunami&quot;: 0, &quot;type&quot;: &quot;earthquake&quot;, &quot;types&quot;: &quot;,origin,phase-data,&quot;, &quot;tz&quot;: null, &quot;updated&quot;: 1698744775040, &quot;url&quot;: &quot;https://earthquake.usgs.gov/earthquakes/eventpage/us7000l7qg&quot;}, &quot;type&quot;: &quot;Feature&quot;}], &quot;type&quot;: &quot;FeatureCollection&quot;});\n",
       "\n",
       "        \n",
       "    \n",
       "    geo_json_61185fde40159aa0f8da2c465b8663dd.bindTooltip(\n",
       "    function(layer){\n",
       "    let div = L.DomUtil.create(&#x27;div&#x27;);\n",
       "    \n",
       "    let handleObject = feature=&gt;typeof(feature)==&#x27;object&#x27; ? JSON.stringify(feature) : feature;\n",
       "    let fields = [&quot;title&quot;];\n",
       "    let aliases = [&quot;title&quot;];\n",
       "    let table = &#x27;&lt;table&gt;&#x27; +\n",
       "        String(\n",
       "        fields.map(\n",
       "        (v,i)=&gt;\n",
       "        `&lt;tr&gt;\n",
       "            &lt;th&gt;${aliases[i]}&lt;/th&gt;\n",
       "            \n",
       "            &lt;td&gt;${handleObject(layer.feature.properties[v])}&lt;/td&gt;\n",
       "        &lt;/tr&gt;`).join(&#x27;&#x27;))\n",
       "    +&#x27;&lt;/table&gt;&#x27;;\n",
       "    div.innerHTML=table;\n",
       "    \n",
       "    return div\n",
       "    }\n",
       "    ,{&quot;className&quot;: &quot;foliumtooltip&quot;, &quot;sticky&quot;: true});\n",
       "                     \n",
       "&lt;/script&gt;\n",
       "&lt;/html&gt;\" style=\"position:absolute;width:100%;height:100%;left:0;top:0;border:none !important;\" allowfullscreen webkitallowfullscreen mozallowfullscreen></iframe></div></div>"
      ],
      "text/plain": [
       "<folium.folium.Map at 0x1f8973066d0>"
      ]
     },
     "execution_count": 27,
     "metadata": {},
     "output_type": "execute_result"
    }
   ],
   "source": [
    "# make the map\n",
    "eqmap = folium.Map(location=[0,0], \n",
    "               zoom_start=1,\n",
    "               tiles = 'https://server.arcgisonline.com/ArcGIS/rest/services/World_Imagery/MapServer/tile/{z}/{y}/{x}',\n",
    "               attr = 'ESRI')\n",
    "\n",
    "folium.GeoJson(gdf,\n",
    "               tooltip=folium.GeoJsonTooltip(fields=['title'])).add_to(eqmap)\n",
    "eqmap"
   ]
  },
  {
   "attachments": {},
   "cell_type": "markdown",
   "metadata": {},
   "source": [
    "ここで考えほしいのは、csv をダウンロードした場合と、このように直接出所にリンクしてデータを入手する「違い」とは何か？"
   ]
  },
  {
   "cell_type": "code",
   "execution_count": null,
   "metadata": {},
   "outputs": [],
   "source": []
  }
 ],
 "metadata": {
  "kernelspec": {
   "display_name": "geos",
   "language": "python",
   "name": "python3"
  },
  "language_info": {
   "codemirror_mode": {
    "name": "ipython",
    "version": 3
   },
   "file_extension": ".py",
   "mimetype": "text/x-python",
   "name": "python",
   "nbconvert_exporter": "python",
   "pygments_lexer": "ipython3",
   "version": "3.11.5"
  },
  "orig_nbformat": 4
 },
 "nbformat": 4,
 "nbformat_minor": 2
}
