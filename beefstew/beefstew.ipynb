{
 "cells": [
  {
   "cell_type": "code",
   "execution_count": null,
   "metadata": {},
   "outputs": [],
   "source": []
  },
  {
   "cell_type": "code",
   "execution_count": null,
   "metadata": {},
   "outputs": [],
   "source": [
    "import geopandas as gpd\n",
    "import contextily as ctx\n",
    "import plotly.express as px\n",
    "import matplotlib.pyplot as plt\n",
    "\n",
    "# set font\n",
    "import matplotlib as mpl\n",
    "\n",
    "# for Mac\n",
    "#mpl.rc('font',family='Hiragino Maru Gothic Pro')\n",
    "\n",
    "# for PC\n",
    "mpl.rc('font',family='MS Gothic')"
   ]
  },
  {
   "cell_type": "code",
   "execution_count": null,
   "metadata": {},
   "outputs": [],
   "source": [
    "#2005年かし、まつ、ふな\n",
    "gdf1 = gpd.read_file('beefstew/A002005212005DDSWC12217.zip')\n",
    "gdf2 = gpd.read_file('beefstew/A002005212005DDSWC12207.zip')\n",
    "gdf3 = gpd.read_file('beefstew/A002005212005DDSWC12204.zip')"
   ]
  },
  {
   "cell_type": "code",
   "execution_count": null,
   "metadata": {},
   "outputs": [],
   "source": [
    "# dissolve by S_NAME and sum fields \n",
    "gdf1 = gdf1.dissolve(by='S_NAME',aggfunc='sum').reset_index()\n",
    "gdf2 = gdf2.dissolve(by='S_NAME',aggfunc='sum').reset_index()\n",
    "gdf3 = gdf3.dissolve(by='S_NAME',aggfunc='sum').reset_index()"
   ]
  },
  {
   "cell_type": "code",
   "execution_count": null,
   "metadata": {},
   "outputs": [],
   "source": [
    "fig,ax = plt.subplots()\n",
    "gdf1.plot(ax=ax);\n",
    "fig,ax = plt.subplots()\n",
    "gdf2.plot(ax=ax);\n",
    "fig,ax = plt.subplots()\n",
    "gdf3.plot(ax=ax);"
   ]
  },
  {
   "cell_type": "code",
   "execution_count": null,
   "metadata": {},
   "outputs": [],
   "source": [
    "import contextily as cx\n",
    "# change projection for your data to match basemap\n",
    "gdf1=gdf1.to_crs(3857)\n",
    "gdf2=gdf2.to_crs(3857)\n",
    "gdf3=gdf3.to_crs(3857)"
   ]
  },
  {
   "cell_type": "code",
   "execution_count": null,
   "metadata": {},
   "outputs": [],
   "source": [
    "# population map\n",
    "fig,ax = plt.subplots(figsize=(10,10))\n",
    "gdf1.plot(ax=ax,\n",
    "         column='JINKO',\n",
    "         legend=True\n",
    "         cmap='RdYlGn_r'\n",
    "         edgecolor='black',\n",
    "         linewidth=0.1\n",
    "         legend_kwds={'label': \"人口数\",'shrink': 0.5, 'orientation': \"horizontal\", 'pad': 0.01}\n",
    "        );\n",
    "# hide axes\n",
    "ax.axis('off')\n",
    "\n",
    "# title\n",
    "ax.set_title('柏市の人口(2020)',fontsize=24, pad=20);\n",
    "\n",
    "# population map\n",
    "fig,ax = plt.subplots(figsize=(10,10))\n",
    "gdf2.plot(ax=ax,\n",
    "         column='JINKO',\n",
    "         legend=True\n",
    "         cmap='RdYlGn_r'\n",
    "         edgecolor='black',\n",
    "         linewidth=0.1\n",
    "         legend_kwds={'label': \"人口数\",'shrink': 0.5, 'orientation': \"horizontal\", 'pad': 0.01}\n",
    "        );\n",
    "# hide axes\n",
    "ax.axis('off')\n",
    "\n",
    "# title\n",
    "ax.set_title('松戸市の人口(2020)',fontsize=24, pad=20);\n",
    "\n",
    "# population map\n",
    "fig,ax = plt.subplots(figsize=(10,10))\n",
    "gdf3.plot(ax=ax,\n",
    "         column='JINKO',\n",
    "         legend=True\n",
    "         cmap='RdYlGn_r'\n",
    "         edgecolor='black',\n",
    "         linewidth=0.1\n",
    "         legend_kwds={'label': \"人口数\",'shrink': 0.5, 'orientation': \"horizontal\", 'pad': 0.01}\n",
    "        );\n",
    "# hide axes\n",
    "ax.axis('off')\n",
    "\n",
    "# title\n",
    "ax.set_title('船橋市の人口(2020)',fontsize=24, pad=20);\n",
    "# hide axes\n",
    "ax.axis('off');\n",
    "\n",
    "#Add the basemap\n",
    "ctx.add_basemap(ax, source='https://cyberjapandata.gsi.go.jp/xyz/seamlessphoto/{z}/{x}/{y}.jpg');"
   ]
  }
 ],
 "metadata": {
  "kernelspec": {
   "display_name": "Python 3",
   "language": "python",
   "name": "python3"
  },
  "language_info": {
   "name": "python",
   "version": "3.11.5"
  }
 },
 "nbformat": 4,
 "nbformat_minor": 2
}
